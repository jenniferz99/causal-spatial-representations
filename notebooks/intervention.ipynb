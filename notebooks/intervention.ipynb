{
  "cells": [
    {
      "cell_type": "code",
      "execution_count": 1,
      "metadata": {
        "id": "8rvWo-y0uGxq"
      },
      "outputs": [],
      "source": [
        "import os\n",
        "import sys\n",
        "\n",
        "import numpy as np\n",
        "import scipy\n",
        "import torch\n",
        "# import sklearn\n",
        "import pandas as pd\n",
        "import matplotlib.pyplot as plt\n",
        "from tqdm import tqdm\n",
        "import re\n",
        "import copy\n",
        "import random\n",
        "import gc\n",
        "import math\n",
        "\n",
        "from torch import nn\n",
        "\n",
        "# NOTE: change this to fit your platform\n",
        "device = 'cuda' if torch.cuda.is_available() else 'cpu'"
      ]
    },
    {
      "cell_type": "markdown",
      "metadata": {
        "id": "Fh64_qLcuGxs"
      },
      "source": [
        "## Prepare dataset"
      ]
    },
    {
      "cell_type": "code",
      "source": [
        "from google.colab import drive\n",
        "drive.mount('/content/drive')"
      ],
      "metadata": {
        "colab": {
          "base_uri": "https://localhost:8080/"
        },
        "id": "9WwgCSbkYu_P",
        "outputId": "9d46fe19-b1a3-4f7b-a234-a5d4b4174c6a"
      },
      "execution_count": 2,
      "outputs": [
        {
          "output_type": "stream",
          "name": "stdout",
          "text": [
            "Drive already mounted at /content/drive; to attempt to forcibly remount, call drive.mount(\"/content/drive\", force_remount=True).\n"
          ]
        }
      ]
    },
    {
      "cell_type": "code",
      "source": [
        "!pip install transformers\n",
        "!pip install cartopy\n",
        "# !pip install sentencepiece"
      ],
      "metadata": {
        "colab": {
          "base_uri": "https://localhost:8080/"
        },
        "id": "_nbs9zAghWTe",
        "outputId": "b0ca8c5d-5a02-412c-8cfe-7f44f11ba9b9"
      },
      "execution_count": 3,
      "outputs": [
        {
          "output_type": "stream",
          "name": "stdout",
          "text": [
            "Requirement already satisfied: transformers in /usr/local/lib/python3.10/dist-packages (4.35.2)\n",
            "Requirement already satisfied: filelock in /usr/local/lib/python3.10/dist-packages (from transformers) (3.13.1)\n",
            "Requirement already satisfied: huggingface-hub<1.0,>=0.16.4 in /usr/local/lib/python3.10/dist-packages (from transformers) (0.19.4)\n",
            "Requirement already satisfied: numpy>=1.17 in /usr/local/lib/python3.10/dist-packages (from transformers) (1.23.5)\n",
            "Requirement already satisfied: packaging>=20.0 in /usr/local/lib/python3.10/dist-packages (from transformers) (23.2)\n",
            "Requirement already satisfied: pyyaml>=5.1 in /usr/local/lib/python3.10/dist-packages (from transformers) (6.0.1)\n",
            "Requirement already satisfied: regex!=2019.12.17 in /usr/local/lib/python3.10/dist-packages (from transformers) (2023.6.3)\n",
            "Requirement already satisfied: requests in /usr/local/lib/python3.10/dist-packages (from transformers) (2.31.0)\n",
            "Requirement already satisfied: tokenizers<0.19,>=0.14 in /usr/local/lib/python3.10/dist-packages (from transformers) (0.15.0)\n",
            "Requirement already satisfied: safetensors>=0.3.1 in /usr/local/lib/python3.10/dist-packages (from transformers) (0.4.1)\n",
            "Requirement already satisfied: tqdm>=4.27 in /usr/local/lib/python3.10/dist-packages (from transformers) (4.66.1)\n",
            "Requirement already satisfied: fsspec>=2023.5.0 in /usr/local/lib/python3.10/dist-packages (from huggingface-hub<1.0,>=0.16.4->transformers) (2023.6.0)\n",
            "Requirement already satisfied: typing-extensions>=3.7.4.3 in /usr/local/lib/python3.10/dist-packages (from huggingface-hub<1.0,>=0.16.4->transformers) (4.5.0)\n",
            "Requirement already satisfied: charset-normalizer<4,>=2 in /usr/local/lib/python3.10/dist-packages (from requests->transformers) (3.3.2)\n",
            "Requirement already satisfied: idna<4,>=2.5 in /usr/local/lib/python3.10/dist-packages (from requests->transformers) (3.6)\n",
            "Requirement already satisfied: urllib3<3,>=1.21.1 in /usr/local/lib/python3.10/dist-packages (from requests->transformers) (2.0.7)\n",
            "Requirement already satisfied: certifi>=2017.4.17 in /usr/local/lib/python3.10/dist-packages (from requests->transformers) (2023.11.17)\n",
            "Requirement already satisfied: cartopy in /usr/local/lib/python3.10/dist-packages (0.22.0)\n",
            "Requirement already satisfied: numpy>=1.21 in /usr/local/lib/python3.10/dist-packages (from cartopy) (1.23.5)\n",
            "Requirement already satisfied: matplotlib>=3.4 in /usr/local/lib/python3.10/dist-packages (from cartopy) (3.7.1)\n",
            "Requirement already satisfied: shapely>=1.7 in /usr/local/lib/python3.10/dist-packages (from cartopy) (2.0.2)\n",
            "Requirement already satisfied: packaging>=20 in /usr/local/lib/python3.10/dist-packages (from cartopy) (23.2)\n",
            "Requirement already satisfied: pyshp>=2.1 in /usr/local/lib/python3.10/dist-packages (from cartopy) (2.3.1)\n",
            "Requirement already satisfied: pyproj>=3.1.0 in /usr/local/lib/python3.10/dist-packages (from cartopy) (3.6.1)\n",
            "Requirement already satisfied: contourpy>=1.0.1 in /usr/local/lib/python3.10/dist-packages (from matplotlib>=3.4->cartopy) (1.2.0)\n",
            "Requirement already satisfied: cycler>=0.10 in /usr/local/lib/python3.10/dist-packages (from matplotlib>=3.4->cartopy) (0.12.1)\n",
            "Requirement already satisfied: fonttools>=4.22.0 in /usr/local/lib/python3.10/dist-packages (from matplotlib>=3.4->cartopy) (4.46.0)\n",
            "Requirement already satisfied: kiwisolver>=1.0.1 in /usr/local/lib/python3.10/dist-packages (from matplotlib>=3.4->cartopy) (1.4.5)\n",
            "Requirement already satisfied: pillow>=6.2.0 in /usr/local/lib/python3.10/dist-packages (from matplotlib>=3.4->cartopy) (9.4.0)\n",
            "Requirement already satisfied: pyparsing>=2.3.1 in /usr/local/lib/python3.10/dist-packages (from matplotlib>=3.4->cartopy) (3.1.1)\n",
            "Requirement already satisfied: python-dateutil>=2.7 in /usr/local/lib/python3.10/dist-packages (from matplotlib>=3.4->cartopy) (2.8.2)\n",
            "Requirement already satisfied: certifi in /usr/local/lib/python3.10/dist-packages (from pyproj>=3.1.0->cartopy) (2023.11.17)\n",
            "Requirement already satisfied: six>=1.5 in /usr/local/lib/python3.10/dist-packages (from python-dateutil>=2.7->matplotlib>=3.4->cartopy) (1.16.0)\n"
          ]
        }
      ]
    },
    {
      "cell_type": "code",
      "execution_count": 4,
      "metadata": {
        "colab": {
          "base_uri": "https://localhost:8080/",
          "height": 527
        },
        "id": "NolLb9JNuGxu",
        "outputId": "5e6c27c9-3706-4390-a20a-3b6398c9eda7"
      },
      "outputs": [
        {
          "output_type": "execute_result",
          "data": {
            "text/plain": [
              "                        city        city_ascii      lat       lng  \\\n",
              "id                                                                  \n",
              "1392685764             Tokyo             Tokyo  35.6897  139.6922   \n",
              "1360771077           Jakarta           Jakarta  -6.1750  106.8275   \n",
              "1356872604             Delhi             Delhi  28.6100   77.2300   \n",
              "1156237133         Guangzhou         Guangzhou  23.1300  113.2600   \n",
              "1356226629            Mumbai            Mumbai  19.0761   72.8775   \n",
              "...                      ...               ...      ...       ...   \n",
              "1600304725           Katueté           Katuete -24.2481  -54.7575   \n",
              "1840003970  Dearborn Heights  Dearborn Heights  42.3164  -83.2769   \n",
              "1643910130            Tuapse            Tuapse  44.1044   39.0772   \n",
              "1484567937    Puerto Peñasco    Puerto Penasco  31.3167 -113.5369   \n",
              "1643992511         Chistopol         Chistopol  55.3647   50.6261   \n",
              "\n",
              "                  country iso2 iso3          admin_name  capital  population  \\\n",
              "id                                                                             \n",
              "1392685764          Japan   JP  JPN               Tōkyō  primary  37732000.0   \n",
              "1360771077      Indonesia   ID  IDN             Jakarta  primary  33756000.0   \n",
              "1356872604          India   IN  IND               Delhi    admin  32226000.0   \n",
              "1156237133          China   CN  CHN           Guangdong    admin  26940000.0   \n",
              "1356226629          India   IN  IND         Mahārāshtra    admin  24973000.0   \n",
              "...                   ...  ...  ...                 ...      ...         ...   \n",
              "1600304725       Paraguay   PY  PRY           Canindeyú      NaN     62319.0   \n",
              "1840003970  United States   US  USA            Michigan      NaN     62334.0   \n",
              "1643910130         Russia   RU  RUS  Krasnodarskiy Kray    minor     62269.0   \n",
              "1484567937         Mexico   MX  MEX              Sonora    minor     62301.0   \n",
              "1643992511         Russia   RU  RUS           Tatarstan      NaN     62200.0   \n",
              "\n",
              "                  id.1  country_id  \n",
              "id                                  \n",
              "1392685764  1392685764          20  \n",
              "1360771077  1360771077          39  \n",
              "1356872604  1356872604          88  \n",
              "1156237133  1156237133          45  \n",
              "1356226629  1356226629          88  \n",
              "...                ...         ...  \n",
              "1600304725  1600304725          52  \n",
              "1840003970  1840003970          42  \n",
              "1643910130  1643910130          19  \n",
              "1484567937  1484567937           8  \n",
              "1643992511  1643992511          19  \n",
              "\n",
              "[8540 rows x 12 columns]"
            ],
            "text/html": [
              "\n",
              "  <div id=\"df-190496a5-c0d3-4a60-bfb1-31c2cf3f5fb3\" class=\"colab-df-container\">\n",
              "    <div>\n",
              "<style scoped>\n",
              "    .dataframe tbody tr th:only-of-type {\n",
              "        vertical-align: middle;\n",
              "    }\n",
              "\n",
              "    .dataframe tbody tr th {\n",
              "        vertical-align: top;\n",
              "    }\n",
              "\n",
              "    .dataframe thead th {\n",
              "        text-align: right;\n",
              "    }\n",
              "</style>\n",
              "<table border=\"1\" class=\"dataframe\">\n",
              "  <thead>\n",
              "    <tr style=\"text-align: right;\">\n",
              "      <th></th>\n",
              "      <th>city</th>\n",
              "      <th>city_ascii</th>\n",
              "      <th>lat</th>\n",
              "      <th>lng</th>\n",
              "      <th>country</th>\n",
              "      <th>iso2</th>\n",
              "      <th>iso3</th>\n",
              "      <th>admin_name</th>\n",
              "      <th>capital</th>\n",
              "      <th>population</th>\n",
              "      <th>id.1</th>\n",
              "      <th>country_id</th>\n",
              "    </tr>\n",
              "    <tr>\n",
              "      <th>id</th>\n",
              "      <th></th>\n",
              "      <th></th>\n",
              "      <th></th>\n",
              "      <th></th>\n",
              "      <th></th>\n",
              "      <th></th>\n",
              "      <th></th>\n",
              "      <th></th>\n",
              "      <th></th>\n",
              "      <th></th>\n",
              "      <th></th>\n",
              "      <th></th>\n",
              "    </tr>\n",
              "  </thead>\n",
              "  <tbody>\n",
              "    <tr>\n",
              "      <th>1392685764</th>\n",
              "      <td>Tokyo</td>\n",
              "      <td>Tokyo</td>\n",
              "      <td>35.6897</td>\n",
              "      <td>139.6922</td>\n",
              "      <td>Japan</td>\n",
              "      <td>JP</td>\n",
              "      <td>JPN</td>\n",
              "      <td>Tōkyō</td>\n",
              "      <td>primary</td>\n",
              "      <td>37732000.0</td>\n",
              "      <td>1392685764</td>\n",
              "      <td>20</td>\n",
              "    </tr>\n",
              "    <tr>\n",
              "      <th>1360771077</th>\n",
              "      <td>Jakarta</td>\n",
              "      <td>Jakarta</td>\n",
              "      <td>-6.1750</td>\n",
              "      <td>106.8275</td>\n",
              "      <td>Indonesia</td>\n",
              "      <td>ID</td>\n",
              "      <td>IDN</td>\n",
              "      <td>Jakarta</td>\n",
              "      <td>primary</td>\n",
              "      <td>33756000.0</td>\n",
              "      <td>1360771077</td>\n",
              "      <td>39</td>\n",
              "    </tr>\n",
              "    <tr>\n",
              "      <th>1356872604</th>\n",
              "      <td>Delhi</td>\n",
              "      <td>Delhi</td>\n",
              "      <td>28.6100</td>\n",
              "      <td>77.2300</td>\n",
              "      <td>India</td>\n",
              "      <td>IN</td>\n",
              "      <td>IND</td>\n",
              "      <td>Delhi</td>\n",
              "      <td>admin</td>\n",
              "      <td>32226000.0</td>\n",
              "      <td>1356872604</td>\n",
              "      <td>88</td>\n",
              "    </tr>\n",
              "    <tr>\n",
              "      <th>1156237133</th>\n",
              "      <td>Guangzhou</td>\n",
              "      <td>Guangzhou</td>\n",
              "      <td>23.1300</td>\n",
              "      <td>113.2600</td>\n",
              "      <td>China</td>\n",
              "      <td>CN</td>\n",
              "      <td>CHN</td>\n",
              "      <td>Guangdong</td>\n",
              "      <td>admin</td>\n",
              "      <td>26940000.0</td>\n",
              "      <td>1156237133</td>\n",
              "      <td>45</td>\n",
              "    </tr>\n",
              "    <tr>\n",
              "      <th>1356226629</th>\n",
              "      <td>Mumbai</td>\n",
              "      <td>Mumbai</td>\n",
              "      <td>19.0761</td>\n",
              "      <td>72.8775</td>\n",
              "      <td>India</td>\n",
              "      <td>IN</td>\n",
              "      <td>IND</td>\n",
              "      <td>Mahārāshtra</td>\n",
              "      <td>admin</td>\n",
              "      <td>24973000.0</td>\n",
              "      <td>1356226629</td>\n",
              "      <td>88</td>\n",
              "    </tr>\n",
              "    <tr>\n",
              "      <th>...</th>\n",
              "      <td>...</td>\n",
              "      <td>...</td>\n",
              "      <td>...</td>\n",
              "      <td>...</td>\n",
              "      <td>...</td>\n",
              "      <td>...</td>\n",
              "      <td>...</td>\n",
              "      <td>...</td>\n",
              "      <td>...</td>\n",
              "      <td>...</td>\n",
              "      <td>...</td>\n",
              "      <td>...</td>\n",
              "    </tr>\n",
              "    <tr>\n",
              "      <th>1600304725</th>\n",
              "      <td>Katueté</td>\n",
              "      <td>Katuete</td>\n",
              "      <td>-24.2481</td>\n",
              "      <td>-54.7575</td>\n",
              "      <td>Paraguay</td>\n",
              "      <td>PY</td>\n",
              "      <td>PRY</td>\n",
              "      <td>Canindeyú</td>\n",
              "      <td>NaN</td>\n",
              "      <td>62319.0</td>\n",
              "      <td>1600304725</td>\n",
              "      <td>52</td>\n",
              "    </tr>\n",
              "    <tr>\n",
              "      <th>1840003970</th>\n",
              "      <td>Dearborn Heights</td>\n",
              "      <td>Dearborn Heights</td>\n",
              "      <td>42.3164</td>\n",
              "      <td>-83.2769</td>\n",
              "      <td>United States</td>\n",
              "      <td>US</td>\n",
              "      <td>USA</td>\n",
              "      <td>Michigan</td>\n",
              "      <td>NaN</td>\n",
              "      <td>62334.0</td>\n",
              "      <td>1840003970</td>\n",
              "      <td>42</td>\n",
              "    </tr>\n",
              "    <tr>\n",
              "      <th>1643910130</th>\n",
              "      <td>Tuapse</td>\n",
              "      <td>Tuapse</td>\n",
              "      <td>44.1044</td>\n",
              "      <td>39.0772</td>\n",
              "      <td>Russia</td>\n",
              "      <td>RU</td>\n",
              "      <td>RUS</td>\n",
              "      <td>Krasnodarskiy Kray</td>\n",
              "      <td>minor</td>\n",
              "      <td>62269.0</td>\n",
              "      <td>1643910130</td>\n",
              "      <td>19</td>\n",
              "    </tr>\n",
              "    <tr>\n",
              "      <th>1484567937</th>\n",
              "      <td>Puerto Peñasco</td>\n",
              "      <td>Puerto Penasco</td>\n",
              "      <td>31.3167</td>\n",
              "      <td>-113.5369</td>\n",
              "      <td>Mexico</td>\n",
              "      <td>MX</td>\n",
              "      <td>MEX</td>\n",
              "      <td>Sonora</td>\n",
              "      <td>minor</td>\n",
              "      <td>62301.0</td>\n",
              "      <td>1484567937</td>\n",
              "      <td>8</td>\n",
              "    </tr>\n",
              "    <tr>\n",
              "      <th>1643992511</th>\n",
              "      <td>Chistopol</td>\n",
              "      <td>Chistopol</td>\n",
              "      <td>55.3647</td>\n",
              "      <td>50.6261</td>\n",
              "      <td>Russia</td>\n",
              "      <td>RU</td>\n",
              "      <td>RUS</td>\n",
              "      <td>Tatarstan</td>\n",
              "      <td>NaN</td>\n",
              "      <td>62200.0</td>\n",
              "      <td>1643992511</td>\n",
              "      <td>19</td>\n",
              "    </tr>\n",
              "  </tbody>\n",
              "</table>\n",
              "<p>8540 rows × 12 columns</p>\n",
              "</div>\n",
              "    <div class=\"colab-df-buttons\">\n",
              "\n",
              "  <div class=\"colab-df-container\">\n",
              "    <button class=\"colab-df-convert\" onclick=\"convertToInteractive('df-190496a5-c0d3-4a60-bfb1-31c2cf3f5fb3')\"\n",
              "            title=\"Convert this dataframe to an interactive table.\"\n",
              "            style=\"display:none;\">\n",
              "\n",
              "  <svg xmlns=\"http://www.w3.org/2000/svg\" height=\"24px\" viewBox=\"0 -960 960 960\">\n",
              "    <path d=\"M120-120v-720h720v720H120Zm60-500h600v-160H180v160Zm220 220h160v-160H400v160Zm0 220h160v-160H400v160ZM180-400h160v-160H180v160Zm440 0h160v-160H620v160ZM180-180h160v-160H180v160Zm440 0h160v-160H620v160Z\"/>\n",
              "  </svg>\n",
              "    </button>\n",
              "\n",
              "  <style>\n",
              "    .colab-df-container {\n",
              "      display:flex;\n",
              "      gap: 12px;\n",
              "    }\n",
              "\n",
              "    .colab-df-convert {\n",
              "      background-color: #E8F0FE;\n",
              "      border: none;\n",
              "      border-radius: 50%;\n",
              "      cursor: pointer;\n",
              "      display: none;\n",
              "      fill: #1967D2;\n",
              "      height: 32px;\n",
              "      padding: 0 0 0 0;\n",
              "      width: 32px;\n",
              "    }\n",
              "\n",
              "    .colab-df-convert:hover {\n",
              "      background-color: #E2EBFA;\n",
              "      box-shadow: 0px 1px 2px rgba(60, 64, 67, 0.3), 0px 1px 3px 1px rgba(60, 64, 67, 0.15);\n",
              "      fill: #174EA6;\n",
              "    }\n",
              "\n",
              "    .colab-df-buttons div {\n",
              "      margin-bottom: 4px;\n",
              "    }\n",
              "\n",
              "    [theme=dark] .colab-df-convert {\n",
              "      background-color: #3B4455;\n",
              "      fill: #D2E3FC;\n",
              "    }\n",
              "\n",
              "    [theme=dark] .colab-df-convert:hover {\n",
              "      background-color: #434B5C;\n",
              "      box-shadow: 0px 1px 3px 1px rgba(0, 0, 0, 0.15);\n",
              "      filter: drop-shadow(0px 1px 2px rgba(0, 0, 0, 0.3));\n",
              "      fill: #FFFFFF;\n",
              "    }\n",
              "  </style>\n",
              "\n",
              "    <script>\n",
              "      const buttonEl =\n",
              "        document.querySelector('#df-190496a5-c0d3-4a60-bfb1-31c2cf3f5fb3 button.colab-df-convert');\n",
              "      buttonEl.style.display =\n",
              "        google.colab.kernel.accessAllowed ? 'block' : 'none';\n",
              "\n",
              "      async function convertToInteractive(key) {\n",
              "        const element = document.querySelector('#df-190496a5-c0d3-4a60-bfb1-31c2cf3f5fb3');\n",
              "        const dataTable =\n",
              "          await google.colab.kernel.invokeFunction('convertToInteractive',\n",
              "                                                    [key], {});\n",
              "        if (!dataTable) return;\n",
              "\n",
              "        const docLinkHtml = 'Like what you see? Visit the ' +\n",
              "          '<a target=\"_blank\" href=https://colab.research.google.com/notebooks/data_table.ipynb>data table notebook</a>'\n",
              "          + ' to learn more about interactive tables.';\n",
              "        element.innerHTML = '';\n",
              "        dataTable['output_type'] = 'display_data';\n",
              "        await google.colab.output.renderOutput(dataTable, element);\n",
              "        const docLink = document.createElement('div');\n",
              "        docLink.innerHTML = docLinkHtml;\n",
              "        element.appendChild(docLink);\n",
              "      }\n",
              "    </script>\n",
              "  </div>\n",
              "\n",
              "\n",
              "<div id=\"df-1525bf28-5631-44fe-b1a6-0d6ab7c7dbae\">\n",
              "  <button class=\"colab-df-quickchart\" onclick=\"quickchart('df-1525bf28-5631-44fe-b1a6-0d6ab7c7dbae')\"\n",
              "            title=\"Suggest charts\"\n",
              "            style=\"display:none;\">\n",
              "\n",
              "<svg xmlns=\"http://www.w3.org/2000/svg\" height=\"24px\"viewBox=\"0 0 24 24\"\n",
              "     width=\"24px\">\n",
              "    <g>\n",
              "        <path d=\"M19 3H5c-1.1 0-2 .9-2 2v14c0 1.1.9 2 2 2h14c1.1 0 2-.9 2-2V5c0-1.1-.9-2-2-2zM9 17H7v-7h2v7zm4 0h-2V7h2v10zm4 0h-2v-4h2v4z\"/>\n",
              "    </g>\n",
              "</svg>\n",
              "  </button>\n",
              "\n",
              "<style>\n",
              "  .colab-df-quickchart {\n",
              "      --bg-color: #E8F0FE;\n",
              "      --fill-color: #1967D2;\n",
              "      --hover-bg-color: #E2EBFA;\n",
              "      --hover-fill-color: #174EA6;\n",
              "      --disabled-fill-color: #AAA;\n",
              "      --disabled-bg-color: #DDD;\n",
              "  }\n",
              "\n",
              "  [theme=dark] .colab-df-quickchart {\n",
              "      --bg-color: #3B4455;\n",
              "      --fill-color: #D2E3FC;\n",
              "      --hover-bg-color: #434B5C;\n",
              "      --hover-fill-color: #FFFFFF;\n",
              "      --disabled-bg-color: #3B4455;\n",
              "      --disabled-fill-color: #666;\n",
              "  }\n",
              "\n",
              "  .colab-df-quickchart {\n",
              "    background-color: var(--bg-color);\n",
              "    border: none;\n",
              "    border-radius: 50%;\n",
              "    cursor: pointer;\n",
              "    display: none;\n",
              "    fill: var(--fill-color);\n",
              "    height: 32px;\n",
              "    padding: 0;\n",
              "    width: 32px;\n",
              "  }\n",
              "\n",
              "  .colab-df-quickchart:hover {\n",
              "    background-color: var(--hover-bg-color);\n",
              "    box-shadow: 0 1px 2px rgba(60, 64, 67, 0.3), 0 1px 3px 1px rgba(60, 64, 67, 0.15);\n",
              "    fill: var(--button-hover-fill-color);\n",
              "  }\n",
              "\n",
              "  .colab-df-quickchart-complete:disabled,\n",
              "  .colab-df-quickchart-complete:disabled:hover {\n",
              "    background-color: var(--disabled-bg-color);\n",
              "    fill: var(--disabled-fill-color);\n",
              "    box-shadow: none;\n",
              "  }\n",
              "\n",
              "  .colab-df-spinner {\n",
              "    border: 2px solid var(--fill-color);\n",
              "    border-color: transparent;\n",
              "    border-bottom-color: var(--fill-color);\n",
              "    animation:\n",
              "      spin 1s steps(1) infinite;\n",
              "  }\n",
              "\n",
              "  @keyframes spin {\n",
              "    0% {\n",
              "      border-color: transparent;\n",
              "      border-bottom-color: var(--fill-color);\n",
              "      border-left-color: var(--fill-color);\n",
              "    }\n",
              "    20% {\n",
              "      border-color: transparent;\n",
              "      border-left-color: var(--fill-color);\n",
              "      border-top-color: var(--fill-color);\n",
              "    }\n",
              "    30% {\n",
              "      border-color: transparent;\n",
              "      border-left-color: var(--fill-color);\n",
              "      border-top-color: var(--fill-color);\n",
              "      border-right-color: var(--fill-color);\n",
              "    }\n",
              "    40% {\n",
              "      border-color: transparent;\n",
              "      border-right-color: var(--fill-color);\n",
              "      border-top-color: var(--fill-color);\n",
              "    }\n",
              "    60% {\n",
              "      border-color: transparent;\n",
              "      border-right-color: var(--fill-color);\n",
              "    }\n",
              "    80% {\n",
              "      border-color: transparent;\n",
              "      border-right-color: var(--fill-color);\n",
              "      border-bottom-color: var(--fill-color);\n",
              "    }\n",
              "    90% {\n",
              "      border-color: transparent;\n",
              "      border-bottom-color: var(--fill-color);\n",
              "    }\n",
              "  }\n",
              "</style>\n",
              "\n",
              "  <script>\n",
              "    async function quickchart(key) {\n",
              "      const quickchartButtonEl =\n",
              "        document.querySelector('#' + key + ' button');\n",
              "      quickchartButtonEl.disabled = true;  // To prevent multiple clicks.\n",
              "      quickchartButtonEl.classList.add('colab-df-spinner');\n",
              "      try {\n",
              "        const charts = await google.colab.kernel.invokeFunction(\n",
              "            'suggestCharts', [key], {});\n",
              "      } catch (error) {\n",
              "        console.error('Error during call to suggestCharts:', error);\n",
              "      }\n",
              "      quickchartButtonEl.classList.remove('colab-df-spinner');\n",
              "      quickchartButtonEl.classList.add('colab-df-quickchart-complete');\n",
              "    }\n",
              "    (() => {\n",
              "      let quickchartButtonEl =\n",
              "        document.querySelector('#df-1525bf28-5631-44fe-b1a6-0d6ab7c7dbae button');\n",
              "      quickchartButtonEl.style.display =\n",
              "        google.colab.kernel.accessAllowed ? 'block' : 'none';\n",
              "    })();\n",
              "  </script>\n",
              "</div>\n",
              "    </div>\n",
              "  </div>\n"
            ]
          },
          "metadata": {},
          "execution_count": 4
        }
      ],
      "source": [
        "path = '/content/drive/MyDrive/Colab Notebooks/6.8610_proj' # Change this to your directory\n",
        "df = pd.read_csv(os.path.join(path, 'majorcities.csv'), index_col=0).dropna(subset='population')\n",
        "df = df[df.population > 60000]\n",
        "\n",
        "num_class = 100\n",
        "major_cnty = df.groupby('country_id').count().sort_values('city', ascending=False).index.values[:num_class]\n",
        "df_major = df[df.country_id.isin(list(major_cnty))].drop_duplicates(['city', 'admin_name'])\n",
        "df_major\n",
        "\n"
      ]
    },
    {
      "cell_type": "code",
      "execution_count": 5,
      "metadata": {
        "id": "fw10GcDXS3o8",
        "colab": {
          "base_uri": "https://localhost:8080/",
          "height": 216
        },
        "outputId": "76900e4e-6e07-4fa4-a6d6-94998f25b152"
      },
      "outputs": [
        {
          "output_type": "execute_result",
          "data": {
            "text/plain": [
              "              city city_ascii      lat      lng         country iso2 iso3  \\\n",
              "id                                                                          \n",
              "1826645935  London     London  51.5072  -0.1275  United Kingdom   GB  GBR   \n",
              "1124469960  London     London  42.9836 -81.2497          Canada   CA  CAN   \n",
              "\n",
              "                         admin_name  capital  population        id.1  \\\n",
              "id                                                                     \n",
              "1826645935  London, London, City of  primary  11262000.0  1826645935   \n",
              "1124469960          London, Ontario      NaN    383822.0  1124469960   \n",
              "\n",
              "            country_id  \n",
              "id                      \n",
              "1826645935          95  \n",
              "1124469960          33  "
            ],
            "text/html": [
              "\n",
              "  <div id=\"df-f6ea2239-652c-4af2-87cc-141b8671ffe9\" class=\"colab-df-container\">\n",
              "    <div>\n",
              "<style scoped>\n",
              "    .dataframe tbody tr th:only-of-type {\n",
              "        vertical-align: middle;\n",
              "    }\n",
              "\n",
              "    .dataframe tbody tr th {\n",
              "        vertical-align: top;\n",
              "    }\n",
              "\n",
              "    .dataframe thead th {\n",
              "        text-align: right;\n",
              "    }\n",
              "</style>\n",
              "<table border=\"1\" class=\"dataframe\">\n",
              "  <thead>\n",
              "    <tr style=\"text-align: right;\">\n",
              "      <th></th>\n",
              "      <th>city</th>\n",
              "      <th>city_ascii</th>\n",
              "      <th>lat</th>\n",
              "      <th>lng</th>\n",
              "      <th>country</th>\n",
              "      <th>iso2</th>\n",
              "      <th>iso3</th>\n",
              "      <th>admin_name</th>\n",
              "      <th>capital</th>\n",
              "      <th>population</th>\n",
              "      <th>id.1</th>\n",
              "      <th>country_id</th>\n",
              "    </tr>\n",
              "    <tr>\n",
              "      <th>id</th>\n",
              "      <th></th>\n",
              "      <th></th>\n",
              "      <th></th>\n",
              "      <th></th>\n",
              "      <th></th>\n",
              "      <th></th>\n",
              "      <th></th>\n",
              "      <th></th>\n",
              "      <th></th>\n",
              "      <th></th>\n",
              "      <th></th>\n",
              "      <th></th>\n",
              "    </tr>\n",
              "  </thead>\n",
              "  <tbody>\n",
              "    <tr>\n",
              "      <th>1826645935</th>\n",
              "      <td>London</td>\n",
              "      <td>London</td>\n",
              "      <td>51.5072</td>\n",
              "      <td>-0.1275</td>\n",
              "      <td>United Kingdom</td>\n",
              "      <td>GB</td>\n",
              "      <td>GBR</td>\n",
              "      <td>London, London, City of</td>\n",
              "      <td>primary</td>\n",
              "      <td>11262000.0</td>\n",
              "      <td>1826645935</td>\n",
              "      <td>95</td>\n",
              "    </tr>\n",
              "    <tr>\n",
              "      <th>1124469960</th>\n",
              "      <td>London</td>\n",
              "      <td>London</td>\n",
              "      <td>42.9836</td>\n",
              "      <td>-81.2497</td>\n",
              "      <td>Canada</td>\n",
              "      <td>CA</td>\n",
              "      <td>CAN</td>\n",
              "      <td>London, Ontario</td>\n",
              "      <td>NaN</td>\n",
              "      <td>383822.0</td>\n",
              "      <td>1124469960</td>\n",
              "      <td>33</td>\n",
              "    </tr>\n",
              "  </tbody>\n",
              "</table>\n",
              "</div>\n",
              "    <div class=\"colab-df-buttons\">\n",
              "\n",
              "  <div class=\"colab-df-container\">\n",
              "    <button class=\"colab-df-convert\" onclick=\"convertToInteractive('df-f6ea2239-652c-4af2-87cc-141b8671ffe9')\"\n",
              "            title=\"Convert this dataframe to an interactive table.\"\n",
              "            style=\"display:none;\">\n",
              "\n",
              "  <svg xmlns=\"http://www.w3.org/2000/svg\" height=\"24px\" viewBox=\"0 -960 960 960\">\n",
              "    <path d=\"M120-120v-720h720v720H120Zm60-500h600v-160H180v160Zm220 220h160v-160H400v160Zm0 220h160v-160H400v160ZM180-400h160v-160H180v160Zm440 0h160v-160H620v160ZM180-180h160v-160H180v160Zm440 0h160v-160H620v160Z\"/>\n",
              "  </svg>\n",
              "    </button>\n",
              "\n",
              "  <style>\n",
              "    .colab-df-container {\n",
              "      display:flex;\n",
              "      gap: 12px;\n",
              "    }\n",
              "\n",
              "    .colab-df-convert {\n",
              "      background-color: #E8F0FE;\n",
              "      border: none;\n",
              "      border-radius: 50%;\n",
              "      cursor: pointer;\n",
              "      display: none;\n",
              "      fill: #1967D2;\n",
              "      height: 32px;\n",
              "      padding: 0 0 0 0;\n",
              "      width: 32px;\n",
              "    }\n",
              "\n",
              "    .colab-df-convert:hover {\n",
              "      background-color: #E2EBFA;\n",
              "      box-shadow: 0px 1px 2px rgba(60, 64, 67, 0.3), 0px 1px 3px 1px rgba(60, 64, 67, 0.15);\n",
              "      fill: #174EA6;\n",
              "    }\n",
              "\n",
              "    .colab-df-buttons div {\n",
              "      margin-bottom: 4px;\n",
              "    }\n",
              "\n",
              "    [theme=dark] .colab-df-convert {\n",
              "      background-color: #3B4455;\n",
              "      fill: #D2E3FC;\n",
              "    }\n",
              "\n",
              "    [theme=dark] .colab-df-convert:hover {\n",
              "      background-color: #434B5C;\n",
              "      box-shadow: 0px 1px 3px 1px rgba(0, 0, 0, 0.15);\n",
              "      filter: drop-shadow(0px 1px 2px rgba(0, 0, 0, 0.3));\n",
              "      fill: #FFFFFF;\n",
              "    }\n",
              "  </style>\n",
              "\n",
              "    <script>\n",
              "      const buttonEl =\n",
              "        document.querySelector('#df-f6ea2239-652c-4af2-87cc-141b8671ffe9 button.colab-df-convert');\n",
              "      buttonEl.style.display =\n",
              "        google.colab.kernel.accessAllowed ? 'block' : 'none';\n",
              "\n",
              "      async function convertToInteractive(key) {\n",
              "        const element = document.querySelector('#df-f6ea2239-652c-4af2-87cc-141b8671ffe9');\n",
              "        const dataTable =\n",
              "          await google.colab.kernel.invokeFunction('convertToInteractive',\n",
              "                                                    [key], {});\n",
              "        if (!dataTable) return;\n",
              "\n",
              "        const docLinkHtml = 'Like what you see? Visit the ' +\n",
              "          '<a target=\"_blank\" href=https://colab.research.google.com/notebooks/data_table.ipynb>data table notebook</a>'\n",
              "          + ' to learn more about interactive tables.';\n",
              "        element.innerHTML = '';\n",
              "        dataTable['output_type'] = 'display_data';\n",
              "        await google.colab.output.renderOutput(dataTable, element);\n",
              "        const docLink = document.createElement('div');\n",
              "        docLink.innerHTML = docLinkHtml;\n",
              "        element.appendChild(docLink);\n",
              "      }\n",
              "    </script>\n",
              "  </div>\n",
              "\n",
              "\n",
              "<div id=\"df-f53bf6cd-1a87-4feb-8296-2abf2471b829\">\n",
              "  <button class=\"colab-df-quickchart\" onclick=\"quickchart('df-f53bf6cd-1a87-4feb-8296-2abf2471b829')\"\n",
              "            title=\"Suggest charts\"\n",
              "            style=\"display:none;\">\n",
              "\n",
              "<svg xmlns=\"http://www.w3.org/2000/svg\" height=\"24px\"viewBox=\"0 0 24 24\"\n",
              "     width=\"24px\">\n",
              "    <g>\n",
              "        <path d=\"M19 3H5c-1.1 0-2 .9-2 2v14c0 1.1.9 2 2 2h14c1.1 0 2-.9 2-2V5c0-1.1-.9-2-2-2zM9 17H7v-7h2v7zm4 0h-2V7h2v10zm4 0h-2v-4h2v4z\"/>\n",
              "    </g>\n",
              "</svg>\n",
              "  </button>\n",
              "\n",
              "<style>\n",
              "  .colab-df-quickchart {\n",
              "      --bg-color: #E8F0FE;\n",
              "      --fill-color: #1967D2;\n",
              "      --hover-bg-color: #E2EBFA;\n",
              "      --hover-fill-color: #174EA6;\n",
              "      --disabled-fill-color: #AAA;\n",
              "      --disabled-bg-color: #DDD;\n",
              "  }\n",
              "\n",
              "  [theme=dark] .colab-df-quickchart {\n",
              "      --bg-color: #3B4455;\n",
              "      --fill-color: #D2E3FC;\n",
              "      --hover-bg-color: #434B5C;\n",
              "      --hover-fill-color: #FFFFFF;\n",
              "      --disabled-bg-color: #3B4455;\n",
              "      --disabled-fill-color: #666;\n",
              "  }\n",
              "\n",
              "  .colab-df-quickchart {\n",
              "    background-color: var(--bg-color);\n",
              "    border: none;\n",
              "    border-radius: 50%;\n",
              "    cursor: pointer;\n",
              "    display: none;\n",
              "    fill: var(--fill-color);\n",
              "    height: 32px;\n",
              "    padding: 0;\n",
              "    width: 32px;\n",
              "  }\n",
              "\n",
              "  .colab-df-quickchart:hover {\n",
              "    background-color: var(--hover-bg-color);\n",
              "    box-shadow: 0 1px 2px rgba(60, 64, 67, 0.3), 0 1px 3px 1px rgba(60, 64, 67, 0.15);\n",
              "    fill: var(--button-hover-fill-color);\n",
              "  }\n",
              "\n",
              "  .colab-df-quickchart-complete:disabled,\n",
              "  .colab-df-quickchart-complete:disabled:hover {\n",
              "    background-color: var(--disabled-bg-color);\n",
              "    fill: var(--disabled-fill-color);\n",
              "    box-shadow: none;\n",
              "  }\n",
              "\n",
              "  .colab-df-spinner {\n",
              "    border: 2px solid var(--fill-color);\n",
              "    border-color: transparent;\n",
              "    border-bottom-color: var(--fill-color);\n",
              "    animation:\n",
              "      spin 1s steps(1) infinite;\n",
              "  }\n",
              "\n",
              "  @keyframes spin {\n",
              "    0% {\n",
              "      border-color: transparent;\n",
              "      border-bottom-color: var(--fill-color);\n",
              "      border-left-color: var(--fill-color);\n",
              "    }\n",
              "    20% {\n",
              "      border-color: transparent;\n",
              "      border-left-color: var(--fill-color);\n",
              "      border-top-color: var(--fill-color);\n",
              "    }\n",
              "    30% {\n",
              "      border-color: transparent;\n",
              "      border-left-color: var(--fill-color);\n",
              "      border-top-color: var(--fill-color);\n",
              "      border-right-color: var(--fill-color);\n",
              "    }\n",
              "    40% {\n",
              "      border-color: transparent;\n",
              "      border-right-color: var(--fill-color);\n",
              "      border-top-color: var(--fill-color);\n",
              "    }\n",
              "    60% {\n",
              "      border-color: transparent;\n",
              "      border-right-color: var(--fill-color);\n",
              "    }\n",
              "    80% {\n",
              "      border-color: transparent;\n",
              "      border-right-color: var(--fill-color);\n",
              "      border-bottom-color: var(--fill-color);\n",
              "    }\n",
              "    90% {\n",
              "      border-color: transparent;\n",
              "      border-bottom-color: var(--fill-color);\n",
              "    }\n",
              "  }\n",
              "</style>\n",
              "\n",
              "  <script>\n",
              "    async function quickchart(key) {\n",
              "      const quickchartButtonEl =\n",
              "        document.querySelector('#' + key + ' button');\n",
              "      quickchartButtonEl.disabled = true;  // To prevent multiple clicks.\n",
              "      quickchartButtonEl.classList.add('colab-df-spinner');\n",
              "      try {\n",
              "        const charts = await google.colab.kernel.invokeFunction(\n",
              "            'suggestCharts', [key], {});\n",
              "      } catch (error) {\n",
              "        console.error('Error during call to suggestCharts:', error);\n",
              "      }\n",
              "      quickchartButtonEl.classList.remove('colab-df-spinner');\n",
              "      quickchartButtonEl.classList.add('colab-df-quickchart-complete');\n",
              "    }\n",
              "    (() => {\n",
              "      let quickchartButtonEl =\n",
              "        document.querySelector('#df-f53bf6cd-1a87-4feb-8296-2abf2471b829 button');\n",
              "      quickchartButtonEl.style.display =\n",
              "        google.colab.kernel.accessAllowed ? 'block' : 'none';\n",
              "    })();\n",
              "  </script>\n",
              "</div>\n",
              "    </div>\n",
              "  </div>\n"
            ]
          },
          "metadata": {},
          "execution_count": 5
        }
      ],
      "source": [
        "df_major.admin_name = df_major.apply((lambda x: \", \".join([x.city, x.admin_name]) if type(x.admin_name)!=float else x.city), axis=1)\n",
        "df_major[df_major.city=='London']"
      ]
    },
    {
      "cell_type": "markdown",
      "metadata": {
        "id": "sfthwZZuuGxw"
      },
      "source": [
        "## Intervention"
      ]
    },
    {
      "cell_type": "markdown",
      "metadata": {
        "id": "nDSWm8d6VUMz"
      },
      "source": [
        "### Load Data"
      ]
    },
    {
      "cell_type": "code",
      "execution_count": 6,
      "metadata": {
        "id": "joAuetETuGxx"
      },
      "outputs": [],
      "source": [
        "from sklearn.model_selection import train_test_split\n",
        "from torch.utils.data import TensorDataset\n",
        "from torch.utils.data import DataLoader\n",
        "\n",
        "def load_data(d, bs=64, feat_name='hidden_state',seed=0):\n",
        "  def compose_dataset(tokenizer, names, labels, coord):\n",
        "      tokenize_res = tokenizer(list(names), truncation=True, max_length=8, padding=True, return_tensors='pt')\n",
        "      input_ids, mask = tokenize_res.input_ids, tokenize_res.attention_mask\n",
        "      ds = TensorDataset(input_ids, mask, torch.tensor(labels, dtype=torch.long), torch.tensor(coord, dtype=torch.float32))\n",
        "      return ds\n",
        "\n",
        "  def collate_fn(batch):\n",
        "      ids, mask, label, coord= [],[],[],[]\n",
        "      for s in batch:\n",
        "          ids.append(s[0])\n",
        "          mask.append(s[1])\n",
        "          label.append(s[2])\n",
        "          coord.append(s[3])\n",
        "      inputs = {'input_ids':torch.stack(ids), 'mask':torch.stack(mask), 'label':torch.stack(label), 'coord':torch.stack(coord)}\n",
        "      return inputs\n",
        "\n",
        "  def collate_fn_hiddens(batch):\n",
        "      ids, mask, hidden, label, coord= [],[],[],[],[]\n",
        "      for s in batch:\n",
        "          emb, token, m = d[s[0].item()]\n",
        "          hidden.append(emb)\n",
        "          ids.append(token)\n",
        "          mask.append(m)\n",
        "          label.append(s[1])\n",
        "          coord.append(s[2])\n",
        "      inputs = {'input_ids':torch.stack(ids), 'mask':torch.stack(mask), feat_name:torch.stack(hidden) ,'label':torch.stack(label), 'coord':torch.stack(coord)}\n",
        "      return inputs\n",
        "\n",
        "  # Random\n",
        "  names, label = df_major.index.values, df_major.loc[:,[\"country_id\",\"lat\",'lng']].values\n",
        "  xt, xv, yt, yv = train_test_split(names, label, test_size=0.2, random_state=seed, stratify=label[:,0])\n",
        "\n",
        "  # By country\n",
        "  # c_out = ['China']\n",
        "  # xt, xv = df_major[~df_major.country.isin(c_out)].index.values, df_major[df_major.country.isin(c_out)].index.values\n",
        "  # yt, yv = df_major.loc[xt,[\"country_id\",\"lat\",'lng']].values, df_major.loc[xv,[\"country_id\",\"lat\",'lng']].values\n",
        "\n",
        "  train_ds = TensorDataset(torch.tensor(xt, dtype=torch.long), torch.tensor(yt[:,0], dtype=torch.long), torch.tensor(yt[:,1:], dtype=torch.float32))\n",
        "  val_ds = TensorDataset(torch.tensor(xv, dtype=torch.long), torch.tensor(yv[:,0], dtype=torch.long), torch.tensor(yv[:,1:], dtype=torch.float32))\n",
        "  train_loader =  DataLoader(train_ds, batch_size=bs, shuffle=True, collate_fn=collate_fn_hiddens)\n",
        "  val_loader = DataLoader(val_ds, batch_size=bs, shuffle=False, collate_fn=collate_fn_hiddens)\n",
        "\n",
        "  return train_loader, val_loader\n"
      ]
    },
    {
      "cell_type": "code",
      "execution_count": 20,
      "metadata": {
        "id": "KhpKlOqdKX05"
      },
      "outputs": [],
      "source": [
        "# Select LM\n",
        "model_name = 'GPT-Neo_sent'\n",
        "# model_name = 'DeBERTa_sent'\n",
        "mask = torch.load(os.path.join(path, f'hidden_states/{model_name}/masks.pt'))\n",
        "emb = torch.load(os.path.join(path, f'hidden_states/{model_name}/h24.pt'))\n",
        "id = torch.load(os.path.join(path, f'hidden_states/{model_name}/cid.pt'))\n",
        "token = torch.load(os.path.join(path, f'hidden_states/{model_name}/tokens.pt'))\n",
        "d = {id[i].item():(emb[i], token[i], mask[i]) for i in range(id.shape[0])}\n",
        "\n",
        "del emb"
      ]
    },
    {
      "cell_type": "markdown",
      "source": [
        "### Linear Regression using MSE"
      ],
      "metadata": {
        "id": "tTQQltfaAQPj"
      }
    },
    {
      "cell_type": "code",
      "execution_count": 9,
      "metadata": {
        "id": "mh0tu9PPVlxv",
        "colab": {
          "base_uri": "https://localhost:8080/",
          "height": 75
        },
        "outputId": "a8eca677-211c-4aff-839d-8745482fb266"
      },
      "outputs": [
        {
          "output_type": "execute_result",
          "data": {
            "text/plain": [
              "LinearRegression()"
            ],
            "text/html": [
              "<style>#sk-container-id-1 {color: black;background-color: white;}#sk-container-id-1 pre{padding: 0;}#sk-container-id-1 div.sk-toggleable {background-color: white;}#sk-container-id-1 label.sk-toggleable__label {cursor: pointer;display: block;width: 100%;margin-bottom: 0;padding: 0.3em;box-sizing: border-box;text-align: center;}#sk-container-id-1 label.sk-toggleable__label-arrow:before {content: \"▸\";float: left;margin-right: 0.25em;color: #696969;}#sk-container-id-1 label.sk-toggleable__label-arrow:hover:before {color: black;}#sk-container-id-1 div.sk-estimator:hover label.sk-toggleable__label-arrow:before {color: black;}#sk-container-id-1 div.sk-toggleable__content {max-height: 0;max-width: 0;overflow: hidden;text-align: left;background-color: #f0f8ff;}#sk-container-id-1 div.sk-toggleable__content pre {margin: 0.2em;color: black;border-radius: 0.25em;background-color: #f0f8ff;}#sk-container-id-1 input.sk-toggleable__control:checked~div.sk-toggleable__content {max-height: 200px;max-width: 100%;overflow: auto;}#sk-container-id-1 input.sk-toggleable__control:checked~label.sk-toggleable__label-arrow:before {content: \"▾\";}#sk-container-id-1 div.sk-estimator input.sk-toggleable__control:checked~label.sk-toggleable__label {background-color: #d4ebff;}#sk-container-id-1 div.sk-label input.sk-toggleable__control:checked~label.sk-toggleable__label {background-color: #d4ebff;}#sk-container-id-1 input.sk-hidden--visually {border: 0;clip: rect(1px 1px 1px 1px);clip: rect(1px, 1px, 1px, 1px);height: 1px;margin: -1px;overflow: hidden;padding: 0;position: absolute;width: 1px;}#sk-container-id-1 div.sk-estimator {font-family: monospace;background-color: #f0f8ff;border: 1px dotted black;border-radius: 0.25em;box-sizing: border-box;margin-bottom: 0.5em;}#sk-container-id-1 div.sk-estimator:hover {background-color: #d4ebff;}#sk-container-id-1 div.sk-parallel-item::after {content: \"\";width: 100%;border-bottom: 1px solid gray;flex-grow: 1;}#sk-container-id-1 div.sk-label:hover label.sk-toggleable__label {background-color: #d4ebff;}#sk-container-id-1 div.sk-serial::before {content: \"\";position: absolute;border-left: 1px solid gray;box-sizing: border-box;top: 0;bottom: 0;left: 50%;z-index: 0;}#sk-container-id-1 div.sk-serial {display: flex;flex-direction: column;align-items: center;background-color: white;padding-right: 0.2em;padding-left: 0.2em;position: relative;}#sk-container-id-1 div.sk-item {position: relative;z-index: 1;}#sk-container-id-1 div.sk-parallel {display: flex;align-items: stretch;justify-content: center;background-color: white;position: relative;}#sk-container-id-1 div.sk-item::before, #sk-container-id-1 div.sk-parallel-item::before {content: \"\";position: absolute;border-left: 1px solid gray;box-sizing: border-box;top: 0;bottom: 0;left: 50%;z-index: -1;}#sk-container-id-1 div.sk-parallel-item {display: flex;flex-direction: column;z-index: 1;position: relative;background-color: white;}#sk-container-id-1 div.sk-parallel-item:first-child::after {align-self: flex-end;width: 50%;}#sk-container-id-1 div.sk-parallel-item:last-child::after {align-self: flex-start;width: 50%;}#sk-container-id-1 div.sk-parallel-item:only-child::after {width: 0;}#sk-container-id-1 div.sk-dashed-wrapped {border: 1px dashed gray;margin: 0 0.4em 0.5em 0.4em;box-sizing: border-box;padding-bottom: 0.4em;background-color: white;}#sk-container-id-1 div.sk-label label {font-family: monospace;font-weight: bold;display: inline-block;line-height: 1.2em;}#sk-container-id-1 div.sk-label-container {text-align: center;}#sk-container-id-1 div.sk-container {/* jupyter's `normalize.less` sets `[hidden] { display: none; }` but bootstrap.min.css set `[hidden] { display: none !important; }` so we also need the `!important` here to be able to override the default hidden behavior on the sphinx rendered scikit-learn.org. See: https://github.com/scikit-learn/scikit-learn/issues/21755 */display: inline-block !important;position: relative;}#sk-container-id-1 div.sk-text-repr-fallback {display: none;}</style><div id=\"sk-container-id-1\" class=\"sk-top-container\"><div class=\"sk-text-repr-fallback\"><pre>LinearRegression()</pre><b>In a Jupyter environment, please rerun this cell to show the HTML representation or trust the notebook. <br />On GitHub, the HTML representation is unable to render, please try loading this page with nbviewer.org.</b></div><div class=\"sk-container\" hidden><div class=\"sk-item\"><div class=\"sk-estimator sk-toggleable\"><input class=\"sk-toggleable__control sk-hidden--visually\" id=\"sk-estimator-id-1\" type=\"checkbox\" checked><label for=\"sk-estimator-id-1\" class=\"sk-toggleable__label sk-toggleable__label-arrow\">LinearRegression</label><div class=\"sk-toggleable__content\"><pre>LinearRegression()</pre></div></div></div></div></div>"
            ]
          },
          "metadata": {},
          "execution_count": 9
        }
      ],
      "source": [
        "from sklearn.linear_model import LinearRegression\n",
        "\n",
        "xids = df_major.index.values\n",
        "X = np.stack([d[cid][0].mean(0) for cid in xids])\n",
        "coord=df_major.loc[xids][['lat','lng']].values\n",
        "lreg = LinearRegression()\n",
        "lreg.fit(X,coord)"
      ]
    },
    {
      "cell_type": "code",
      "execution_count": 12,
      "metadata": {
        "id": "oETvKaGmXUhV",
        "colab": {
          "base_uri": "https://localhost:8080/",
          "height": 271
        },
        "outputId": "cd1ab71a-68e7-4042-a968-db9a436fb262"
      },
      "outputs": [
        {
          "output_type": "execute_result",
          "data": {
            "text/plain": [
              "Text(0.5, 1.0, 'GPT-Neo, layer 12')"
            ]
          },
          "metadata": {},
          "execution_count": 12
        },
        {
          "output_type": "stream",
          "name": "stderr",
          "text": [
            "/usr/local/lib/python3.10/dist-packages/cartopy/io/__init__.py:241: DownloadWarning: Downloading: https://naturalearth.s3.amazonaws.com/110m_physical/ne_110m_coastline.zip\n",
            "  warnings.warn(f'Downloading: {url}', DownloadWarning)\n"
          ]
        },
        {
          "output_type": "display_data",
          "data": {
            "text/plain": [
              "<Figure size 800x600 with 1 Axes>"
            ],
            "image/png": "[encoded data removed]"
          },
          "metadata": {}
        }
      ],
      "source": [
        "import cartopy.crs as ccrs\n",
        "cty=['China','Japan','United States','United Kingdom']\n",
        "fig,ax=plt.subplots(figsize=(8 , 6), subplot_kw={'projection': ccrs.PlateCarree()})\n",
        "# fig.colorbar(c, ax=ax)\n",
        "for c in cty:\n",
        "  cids= df_major[df_major.country==c].index.values\n",
        "  x=[d[cid][0].mean(0) for cid in cids]\n",
        "  x = np.stack(x)\n",
        "  coords=lreg.predict(x)\n",
        "  ax.scatter(coords[:,1],coords[:,0],label=c,s=12,alpha=0.7)\n",
        "  ax.set_ylim(0, 80)\n",
        "ax.coastlines()\n",
        "ax.gridlines()\n",
        "plt.legend(loc='upper left', bbox_to_anchor=(1, 1))\n",
        "ax.set_title(\"GPT-Neo, layer 12\")\n",
        "\n",
        "\n"
      ]
    },
    {
      "cell_type": "markdown",
      "source": [
        "### Regression Loss v.s. Model Depth"
      ],
      "metadata": {
        "id": "LXR7eKcCBVYq"
      }
    },
    {
      "cell_type": "code",
      "source": [
        "from sklearn.metrics import mean_squared_error\n",
        "\n",
        "def read_emb(model_name = 'g', h=24):\n",
        "  model_name = 'DeBERTa_sent' if model_name=='b' else 'GPT-Neo_sent'\n",
        "  mask = torch.load(os.path.join(path, f'hidden_states/{model_name}/masks.pt'))\n",
        "  emb = torch.load(os.path.join(path, f'hidden_states/{model_name}/h{h}.pt'))\n",
        "  id = torch.load(os.path.join(path, f'hidden_states/{model_name}/cid.pt'))\n",
        "  token = torch.load(os.path.join(path, f'hidden_states/{model_name}/tokens.pt'))\n",
        "  d = {id[i].item():(emb[i], token[i], mask[i]) for i in range(id.shape[0])}\n",
        "  del emb\n",
        "  return d\n",
        "\n",
        "l_depth=np.zeros(24)\n",
        "for h in range(1,25):\n",
        "    act_dict = read_emb('b', h)\n",
        "    X, coord = [],[]\n",
        "    for k, v in act_dict.items():\n",
        "      X.append(v[0])\n",
        "      coord.append(df_major[df_major['id.1']==k][['lat', 'lng']].values)\n",
        "    del act_dict\n",
        "\n",
        "    X = np.stack(X, axis=0).mean(1)\n",
        "    coord = np.stack(coord, axis=0).mean(1)\n",
        "    lreg = LinearRegression()\n",
        "    lreg.fit(X,coord)\n",
        "    y_pred = lreg.predict(X)\n",
        "    l_depth[h-1] = mean_squared_error(y_pred, coord)\n",
        "    gc.collect()\n",
        "\n",
        "plt.plot(range(25), np.concatenate(([450], l_depth)), marker='o', alpha=0.7)\n",
        "plt.title(\"DeBERTa-V2 Large, Regression Loss\")\n",
        "plt.xlabel(\"Model depth\")\n",
        "plt.ylabel(\"MSE\")\n",
        "plt.vlines([6,12], 0, 800, colors='red', linestyles='dashdot', alpha=0.7, label='kink points')\n",
        "plt.ylim(130, 480)\n",
        "plt.xticks([0,5,6,10,12,15,20,25])\n",
        "plt.legend()"
      ],
      "metadata": {
        "colab": {
          "base_uri": "https://localhost:8080/",
          "height": 490
        },
        "id": "_MrDV_PHAugb",
        "outputId": "a48eb665-9c75-437d-ffb0-86c89257a569"
      },
      "execution_count": 26,
      "outputs": [
        {
          "output_type": "execute_result",
          "data": {
            "text/plain": [
              "<matplotlib.legend.Legend at 0x7fdcd152c2b0>"
            ]
          },
          "metadata": {},
          "execution_count": 26
        },
        {
          "output_type": "display_data",
          "data": {
            "text/plain": [
              "<Figure size 640x480 with 1 Axes>"
            ],
            "image/png": "[encoded data removed]"
          },
          "metadata": {}
        }
      ]
    },
    {
      "cell_type": "markdown",
      "metadata": {
        "id": "sSWYNW0nVX8B"
      },
      "source": [
        "### Load LM"
      ]
    },
    {
      "cell_type": "code",
      "execution_count": 11,
      "metadata": {
        "id": "2sPQ8qljuGxx"
      },
      "outputs": [],
      "source": [
        "# import sentencepiece\n",
        "from transformers import AutoTokenizer, DebertaV2Model, RobertaModel\n",
        "from transformers import AutoTokenizer, GPTNeoModel\n",
        "\n",
        "def load_bert(layer: int):\n",
        "  # Load pretrained DeBERTa model\n",
        "  tokenizer = AutoTokenizer.from_pretrained(\"microsoft/deberta-v2-xlarge\")\n",
        "  if layer == 24:\n",
        "    model = None\n",
        "  else:\n",
        "    model = DebertaV2Model.from_pretrained(\"microsoft/deberta-v2-xlarge\").to(device).requires_grad_(False)\n",
        "\n",
        "    # remove ealier layers for downstream classification\n",
        "    model.encoder.layer = model.encoder.layer[layer:]\n",
        "    model.encoder.conv=None\n",
        "  return tokenizer, model\n",
        "\n",
        "class ZeroLayer(nn.Module):\n",
        "   def forward(self, x):\n",
        "    return torch.zeros(1, device=x.device)\n",
        "\n",
        "\n",
        "def load_gpt(layer=24):\n",
        "\n",
        "  tokenizer = AutoTokenizer.from_pretrained(\"EleutherAI/gpt-neo-1.3B\")\n",
        "  if layer == 24:\n",
        "    model = None\n",
        "  else:\n",
        "    model = GPTNeoModel.from_pretrained(\"EleutherAI/gpt-neo-1.3B\").to(device)\n",
        "    model.h = model.h[layer:]\n",
        "    model.wpe=ZeroLayer()\n",
        "  return tokenizer, model"
      ]
    },
    {
      "cell_type": "markdown",
      "metadata": {
        "id": "v57DAQIYVawg"
      },
      "source": [
        "### Mapping FCNN"
      ]
    },
    {
      "cell_type": "code",
      "execution_count": 12,
      "metadata": {
        "id": "J1uDUHG7uGxw"
      },
      "outputs": [],
      "source": [
        "class Base(nn.Module):\n",
        "    def __init__(self, device='cpu', *args, **kwargs) -> None:\n",
        "        super().__init__(*args, **kwargs)\n",
        "        self.best_model = None\n",
        "        self.device = device\n",
        "\n",
        "    def forward(self):\n",
        "        pass\n",
        "\n",
        "    def compute_loss(self):\n",
        "        pass\n",
        "\n",
        "    def train_all(self, train_iter, val_iter, epochs=20, learning_rate=1e-3):\n",
        "        # Use Adam to optimize the parameters\n",
        "        optim = torch.optim.AdamW(self.parameters(), lr=learning_rate)\n",
        "        scheduler = torch.optim.lr_scheduler.CosineAnnealingLR(optim, T_max=epochs*2)\n",
        "        best_val_loss = float('inf')\n",
        "        # Run the optimization for multiple epochs\n",
        "        for epoch in tqdm(range(epochs)):\n",
        "            # Switch the module to training mode\n",
        "            self.train()\n",
        "            losses = []\n",
        "            with tqdm(enumerate(train_iter), desc='train', position=0) as pbar:\n",
        "                for i, batch in pbar:\n",
        "                    optim.zero_grad()\n",
        "                    loss = self.compute_loss(batch)\n",
        "                    loss.backward()\n",
        "                    # torch.nn.utils.clip_grad_value_(self.parameters(), 1.)\n",
        "                    optim.step()\n",
        "                    losses.append(loss.item())\n",
        "                    pbar.set_postfix(epoch=epoch, iter=i, loss=sum(losses)/len(losses))\n",
        "\n",
        "\n",
        "                # Evaluate and track improvements on the validation dataset\n",
        "                val_loss = self.evaluate(val_iter)\n",
        "                scheduler.step()\n",
        "                if val_loss < best_val_loss:\n",
        "                    best_val_loss = val_loss\n",
        "                    self.best_model = copy.deepcopy(self.state_dict())\n",
        "                epoch_loss = sum(losses)/len(losses)\n",
        "                print(f'[val] Epoch{epoch}, val_loss={val_loss}')\n",
        "        return best_val_loss\n",
        "\n",
        "    def evaluate(self, iterator):\n",
        "        \"\"\"Returns the model's loss on a given dataset `iterator`.\"\"\"\n",
        "        self.eval()   # switch the module to evaluation mode\n",
        "        losses = []     # running total of example\n",
        "        with torch.no_grad():\n",
        "            for batch in iterator:\n",
        "                loss = self.compute_loss(batch)\n",
        "                losses.append(loss.item())\n",
        "        self.train()\n",
        "        return sum(losses) / len(losses)\n"
      ]
    },
    {
      "cell_type": "code",
      "execution_count": 32,
      "metadata": {
        "id": "B5BzAha3uGxw"
      },
      "outputs": [],
      "source": [
        "class Classifier(Base):\n",
        "    def __init__(self, n_class, transformer=None, in_features=1536, hidden_dim=1024, n_layer=1, device='cpu', **kwargs) -> None:\n",
        "        super().__init__(device=device, **kwargs)\n",
        "        self.hidden_dim = hidden_dim\n",
        "        self.n_class = n_class\n",
        "        self.transformer = transformer\n",
        "        if self.transformer:\n",
        "            self.transformer.requires_grad_(False)\n",
        "\n",
        "        layers, n_in, n_out = [], in_features, in_features\n",
        "        for i in range(n_layer-1):\n",
        "            layers.append(nn.Linear(n_in, hidden_dim))\n",
        "            # layers.append(nn.ReLU())\n",
        "            # layers.append(nn.BatchNorm1d(hidden_dim))\n",
        "            if i > 1: layers.append(nn.Dropout(0.3))\n",
        "            n_in, n_out = hidden_dim, hidden_dim\n",
        "        layers.append(nn.Linear(n_out, n_class))\n",
        "        self.linear = nn.Sequential(*layers)\n",
        "        self.loss_fn = nn.CrossEntropyLoss()\n",
        "        self.device = device\n",
        "        self.to(device)\n",
        "\n",
        "    def get_hidden_states(self, inputs):\n",
        "        # DeBERTa\n",
        "        # emb = self.transformer.get_submodule(\"embeddings\")(inputs['input_ids'].to(self.device))\n",
        "        # # mask = self.encoder.get_attention_mask(inputs['mask'].to(self.device))\n",
        "        # # print(mask.dtype)\n",
        "        # rel_pos = self.transformer.encoder.get_rel_pos(emb.to(self.device))\n",
        "        # prev = inputs.get('hidden_state', emb)\n",
        "        # out = self.transformer.encoder(prev.to(self.device), inputs['mask'].to(self.device), output_hidden_states=False, relative_pos=rel_pos)\n",
        "        # h = out.last_hidden_state\n",
        "\n",
        "        # GPT-Neo\n",
        "        out = self.transformer(inputs_embeds=inputs['hidden_state'].to(self.device),\n",
        "                               attention_mask=inputs['mask'].to(self.device),\n",
        "                               use_cache=False, output_hidden_states=True)\n",
        "        h = out.hidden_states[-1].detach()\n",
        "        del out\n",
        "        return h\n",
        "\n",
        "    def forward(self, inputs):\n",
        "        last_hidden_state = inputs.get(\"last_hidden_state\", None)\n",
        "        if last_hidden_state is None:\n",
        "            self.eval()\n",
        "            with torch.no_grad():\n",
        "                last_hidden_state = self.get_hidden_states(inputs)\n",
        "            self.train()\n",
        "        x = (last_hidden_state.to(self.device) * inputs['mask'].unsqueeze(2).to(self.device)).sum(1)\n",
        "        logit = self.linear(x.to(self.device))\n",
        "        return logit\n",
        "\n",
        "    def compute_loss(self, inputs):\n",
        "        \"\"\"forward pass and compute loss\"\"\"\n",
        "        pred = self.forward(inputs)\n",
        "        return self.loss_fn(pred.view(-1, self.n_class), inputs['label'].to(self.device))\n",
        "\n",
        "    def predict(self, inputs):\n",
        "        \"\"\"predict on one minibatch\"\"\"\n",
        "        self.eval()\n",
        "        with torch.no_grad():\n",
        "            logit = self.forward(inputs)\n",
        "            return torch.argmax(logit, -1)\n",
        "\n"
      ]
    },
    {
      "cell_type": "code",
      "execution_count": 33,
      "metadata": {
        "id": "s59AeYa0uGxx"
      },
      "outputs": [],
      "source": [
        "class GeoDist(nn.Module):\n",
        "    def forward(self, predicted, target,w=1000):\n",
        "        \"\"\"Calculate geographical distance given latitude and longitude by Haversine formula\"\"\"\n",
        "        deg_pred = torch.deg2rad(predicted)\n",
        "        deg_gt = torch.deg2rad(target)\n",
        "        lat1, lon1, lat2, lon2 = deg_pred[:,0],deg_pred[:,1],deg_gt[:,0],deg_gt[:,1]\n",
        "\n",
        "        # Haversine formula\n",
        "        dlat = lat2 - lat1\n",
        "        dlon = lon2 - lon1\n",
        "        a = (dlat / 2).sin() ** 2 + lat1.cos() * lat2.cos() * (dlon / 2).sin() ** 2\n",
        "        c = 2 * torch.atan2(torch.sqrt(a), torch.sqrt(1 - a))\n",
        "\n",
        "        # Radius of the Earth in kilometers (mean value)\n",
        "        # radius = 6371.0\n",
        "\n",
        "        # Calculate the distance\n",
        "        distance = w * c\n",
        "\n",
        "        return distance.mean(0)\n",
        "\n",
        "\n",
        "class Regressor(Base):\n",
        "    def __init__(self, metric, n_class=2, in_features=1536, hidden_dim=1024, n_layer=1,\n",
        "                 device='cpu', **kwargs) -> None:\n",
        "        super().__init__(device, **kwargs)\n",
        "        self.hidden_dim = hidden_dim\n",
        "        self.n_class = n_class\n",
        "        layers, n_in, n_out = [], in_features, in_features\n",
        "        for i in range(n_layer-1):\n",
        "            layers.append(nn.Linear(n_in, hidden_dim))\n",
        "            layers.append(nn.ReLU())\n",
        "            # layers.append(nn.BatchNorm1d(hidden_dim))\n",
        "            # layers.append(nn.Dropout(0.3))\n",
        "            n_in, n_out = hidden_dim, hidden_dim\n",
        "        layers.append(nn.Linear(n_out, n_class))\n",
        "        self.linear = nn.Sequential(*layers)\n",
        "        if metric=='geo':self.loss_fn = GeoDist()\n",
        "        else: self.loss_fn = nn.MSELoss()\n",
        "        self.device = device\n",
        "        self.to(device)\n",
        "\n",
        "    def forward(self, x, mask):\n",
        "        x=x * torch.unsqueeze(mask, 2)\n",
        "        return self.linear(x.sum(1))\n",
        "        # return (180 + self.linear(x.sum(1))) % 360 - 180\n",
        "\n",
        "    def compute_loss(self, inputs):\n",
        "        k = 'hidden_state' if 'hidden_state' in inputs.keys() else 'last_hidden_state'\n",
        "        pred = self.forward(inputs[k].to(self.device), inputs['mask'].to(self.device))\n",
        "\n",
        "        return self.loss_fn(pred, inputs['coord'].to(self.device))\n",
        "\n",
        "    def compute_grad(self, x, mask, gt):\n",
        "        pred = self.forward(x, mask)\n",
        "        loss = self.loss_fn(pred, gt)\n",
        "        loss.backward()\n",
        "        return loss\n",
        "\n",
        "    def predict(self, inputs):\n",
        "        \"\"\"predict on one minibatch\"\"\"\n",
        "        self.eval()\n",
        "        with torch.no_grad():\n",
        "            k = 'hidden_state' if 'hidden_state' in inputs.keys() else 'last_hidden_state'\n",
        "            pred = self.forward(inputs[k].to(self.device), inputs['mask'].to(self.device))\n",
        "            return pred\n",
        "\n"
      ]
    },
    {
      "cell_type": "code",
      "execution_count": 34,
      "metadata": {
        "id": "hTUyPoREuOeX"
      },
      "outputs": [],
      "source": [
        "class Perturber(nn.Module):\n",
        "    def __init__(self, in_features=1536, reg=None, cls=None,\n",
        "                 device='cpu', **kwargs) -> None:\n",
        "        super().__init__(**kwargs)\n",
        "        self.regressor = reg\n",
        "        self.classifier = cls\n",
        "        self.classifier.requires_grad_(False)\n",
        "        self.n_features = in_features\n",
        "        self.perturbed_samples = None\n",
        "        self.device = device\n",
        "        self.to(device)\n",
        "\n",
        "    def perturb(self, train_loader, val_loader, epochs=10, lr=0.1, rand=False):\n",
        "        self.eval()\n",
        "        train_samples = list(train_loader)\n",
        "        random.shuffle(train_samples)\n",
        "        reg_losses, cls_acc = [], []\n",
        "        for epoch in tqdm(range(epochs)):\n",
        "            # Switch the module to training mode\n",
        "            self.train()\n",
        "            losses = []\n",
        "            with tqdm(enumerate(train_samples), desc='train', position=0) as pbar:\n",
        "                for i, batch in pbar:\n",
        "                    k = 'hidden_state' if 'hidden_state' in batch.keys() else 'last_hidden_state'\n",
        "                    x, mask, gt = batch[k],batch['mask'],batch['coord']\n",
        "                    x = nn.Parameter(x.to(self.device))\n",
        "                    loss = self.regressor.compute_grad(x, mask.to(self.device), gt.to(self.device))\n",
        "                    losses.append(loss.item())\n",
        "                    x_grad = x.grad.detach().cpu() * torch.unsqueeze(mask,2)\n",
        "                    if rand: x_grad = x_grad.flip([0,2])\n",
        "                    x_grad /= torch.norm_except_dim(x_grad)\n",
        "                    batch[k] = x.data.detach().cpu() - lr * x_grad\n",
        "                    del x, mask, gt\n",
        "\n",
        "                    pbar.set_postfix(epoch=epoch, iter=i, loss=sum(losses)/len(losses))\n",
        "\n",
        "                reg_losses.append(sum(losses)/len(losses))\n",
        "                # Evaluate and track improvements on the validation dataset\n",
        "                if epoch %1==0:\n",
        "                    val_acc = self.evaluate(train_samples)\n",
        "                    # print(f'[val] Epoch{epoch}, val_acc={val_acc}')\n",
        "                    cls_acc.append(val_acc.item())\n",
        "\n",
        "        self.perturbed_samples = train_samples\n",
        "        return reg_losses, cls_acc\n",
        "\n",
        "    def perturb_sample(self, x, mask, tgt, epochs=10, lr=0.1):\n",
        "        x = nn.Parameter(copy.deepcopy(x).to(self.device))\n",
        "        opt = torch.optim.Adam([x], lr=lr)\n",
        "        # best = None\n",
        "        # best_loss = float('inf')\n",
        "        for epoch in (range(epochs)):\n",
        "            loss = self.regressor.compute_grad(x.to(self.device), mask.to(self.device), tgt.to(self.device))\n",
        "            opt.step()\n",
        "            opt.zero_grad()\n",
        "            l = loss.item()\n",
        "            print(l)\n",
        "        return x.data.detach().cpu()\n",
        "\n",
        "\n",
        "    def evaluate(self, samples):\n",
        "        corr, total = 0,0\n",
        "        for sample in samples:\n",
        "            pred = self.classifier.predict(sample).cpu()\n",
        "            corr += (pred == sample['label']).float().sum()\n",
        "            total += pred.shape[0]\n",
        "        return corr / total\n",
        "\n",
        "\n",
        "\n",
        "\n",
        "\n",
        "\n",
        "\n"
      ]
    },
    {
      "cell_type": "markdown",
      "metadata": {
        "id": "a1ttzyDVViJ0"
      },
      "source": [
        "### Training"
      ]
    },
    {
      "cell_type": "code",
      "execution_count": 24,
      "metadata": {
        "id": "-7WcjFpcF5lo",
        "colab": {
          "base_uri": "https://localhost:8080/"
        },
        "outputId": "1f853eec-b550-4c58-9515-209e230d356e"
      },
      "outputs": [
        {
          "output_type": "execute_result",
          "data": {
            "text/plain": [
              "34"
            ]
          },
          "metadata": {},
          "execution_count": 24
        }
      ],
      "source": [
        "import gc\n",
        "torch.cuda.empty_cache()\n",
        "gc.collect()"
      ]
    },
    {
      "cell_type": "code",
      "execution_count": 35,
      "metadata": {
        "id": "lxyKgFuyuGxy"
      },
      "outputs": [],
      "source": [
        "# tokenizer, model = load_gpt(24)\n",
        "clf = Classifier(100,in_features=2048, n_layer=1, hidden_dim=2, transformer=model, device=device)\n",
        "# Load pretrained classification layer\n",
        "clf.linear = torch.load(os.path.join(path, 'gpt_cls_lin.pth'),map_location=device)"
      ]
    },
    {
      "cell_type": "code",
      "execution_count": null,
      "metadata": {
        "id": "oWLWIYS1uGxy",
        "colab": {
          "base_uri": "https://localhost:8080/"
        },
        "outputId": "84fc32de-6db3-4c66-88cb-cfac7c5f6e85"
      },
      "outputs": [
        {
          "output_type": "execute_result",
          "data": {
            "text/plain": [
              "tensor(0.8478)"
            ]
          },
          "metadata": {},
          "execution_count": 18
        }
      ],
      "source": [
        "# Evaluate classification accuracy\n",
        "train_loader, val_loader = load_data(d, 256,'last_hidden_state')\n",
        "\n",
        "correct,total=0,0\n",
        "for x in val_loader:\n",
        "  pred = clf(x).max(-1)[1].cpu()\n",
        "  correct += (pred==x['label']).float().sum()\n",
        "  # print(pred)\n",
        "  total += x['label'].shape[0]\n",
        "correct/total"
      ]
    },
    {
      "cell_type": "code",
      "execution_count": null,
      "metadata": {
        "id": "ffQGWo1vsyC5"
      },
      "outputs": [],
      "source": [
        "# torch.save(clf, '/content/drive/MyDrive/Colab Notebooks/6.8610_proj/cls.pth')\n",
        "# torch.save(clf.linear, '/content/drive/MyDrive/Colab Notebooks/6.8610_proj/gpt_cls_lin.pth')"
      ]
    },
    {
      "cell_type": "code",
      "execution_count": 59,
      "metadata": {
        "id": "rys7oa6rRuTa",
        "colab": {
          "base_uri": "https://localhost:8080/"
        },
        "outputId": "e81f3109-7810-45a3-89c3-51492a2aef39"
      },
      "outputs": [
        {
          "output_type": "stream",
          "name": "stderr",
          "text": [
            "train: 27it [00:02, 10.80it/s, epoch=0, iter=26, loss=1.76e+3]\n",
            "  2%|▏         | 1/50 [00:03<02:29,  3.04s/it]"
          ]
        },
        {
          "output_type": "stream",
          "name": "stdout",
          "text": [
            "[val] Epoch0, val_loss=1049.0409371512276\n"
          ]
        },
        {
          "output_type": "stream",
          "name": "stderr",
          "text": [
            "train: 27it [00:02, 10.36it/s, epoch=1, iter=26, loss=927]\n",
            "  4%|▍         | 2/50 [00:06<02:25,  3.03s/it]"
          ]
        },
        {
          "output_type": "stream",
          "name": "stdout",
          "text": [
            "[val] Epoch1, val_loss=782.6696428571429\n"
          ]
        },
        {
          "output_type": "stream",
          "name": "stderr",
          "text": [
            "train: 27it [00:01, 14.73it/s, epoch=2, iter=26, loss=741]\n",
            "  6%|▌         | 3/50 [00:08<02:05,  2.67s/it]"
          ]
        },
        {
          "output_type": "stream",
          "name": "stdout",
          "text": [
            "[val] Epoch2, val_loss=678.569562639509\n"
          ]
        },
        {
          "output_type": "stream",
          "name": "stderr",
          "text": [
            "train: 27it [00:02, 12.93it/s, epoch=3, iter=26, loss=660]\n",
            "  8%|▊         | 4/50 [00:10<02:01,  2.64s/it]"
          ]
        },
        {
          "output_type": "stream",
          "name": "stdout",
          "text": [
            "[val] Epoch3, val_loss=605.7232927594866\n"
          ]
        },
        {
          "output_type": "stream",
          "name": "stderr",
          "text": [
            "train: 27it [00:02, 12.00it/s, epoch=4, iter=26, loss=601]\n",
            " 10%|█         | 5/50 [00:13<02:00,  2.69s/it]"
          ]
        },
        {
          "output_type": "stream",
          "name": "stdout",
          "text": [
            "[val] Epoch4, val_loss=567.4081595284598\n"
          ]
        },
        {
          "output_type": "stream",
          "name": "stderr",
          "text": [
            "train: 27it [00:01, 14.50it/s, epoch=5, iter=26, loss=573]\n",
            " 12%|█▏        | 6/50 [00:15<01:52,  2.55s/it]"
          ]
        },
        {
          "output_type": "stream",
          "name": "stdout",
          "text": [
            "[val] Epoch5, val_loss=563.8936593191964\n"
          ]
        },
        {
          "output_type": "stream",
          "name": "stderr",
          "text": [
            "train: 27it [00:01, 14.64it/s, epoch=6, iter=26, loss=520]\n",
            " 14%|█▍        | 7/50 [00:18<01:45,  2.45s/it]"
          ]
        },
        {
          "output_type": "stream",
          "name": "stdout",
          "text": [
            "[val] Epoch6, val_loss=510.8652779715402\n"
          ]
        },
        {
          "output_type": "stream",
          "name": "stderr",
          "text": [
            "train: 27it [00:01, 14.71it/s, epoch=7, iter=26, loss=491]\n",
            " 16%|█▌        | 8/50 [00:20<01:40,  2.39s/it]"
          ]
        },
        {
          "output_type": "stream",
          "name": "stdout",
          "text": [
            "[val] Epoch7, val_loss=474.5601283482143\n"
          ]
        },
        {
          "output_type": "stream",
          "name": "stderr",
          "text": [
            "train: 27it [00:01, 14.79it/s, epoch=8, iter=26, loss=465]\n",
            " 18%|█▊        | 9/50 [00:22<01:36,  2.34s/it]"
          ]
        },
        {
          "output_type": "stream",
          "name": "stdout",
          "text": [
            "[val] Epoch8, val_loss=475.9463457380022\n"
          ]
        },
        {
          "output_type": "stream",
          "name": "stderr",
          "text": [
            "train: 27it [00:01, 13.76it/s, epoch=9, iter=26, loss=441]\n",
            " 20%|██        | 10/50 [00:25<01:35,  2.38s/it]"
          ]
        },
        {
          "output_type": "stream",
          "name": "stdout",
          "text": [
            "[val] Epoch9, val_loss=448.0801304408482\n"
          ]
        },
        {
          "output_type": "stream",
          "name": "stderr",
          "text": [
            "train: 27it [00:02, 11.93it/s, epoch=10, iter=26, loss=431]\n",
            " 22%|██▏       | 11/50 [00:27<01:37,  2.50s/it]"
          ]
        },
        {
          "output_type": "stream",
          "name": "stdout",
          "text": [
            "[val] Epoch10, val_loss=438.5122811453683\n"
          ]
        },
        {
          "output_type": "stream",
          "name": "stderr",
          "text": [
            "train: 27it [00:01, 13.51it/s, epoch=11, iter=26, loss=405]\n",
            " 24%|██▍       | 12/50 [00:30<01:34,  2.48s/it]"
          ]
        },
        {
          "output_type": "stream",
          "name": "stdout",
          "text": [
            "[val] Epoch11, val_loss=405.5973467145647\n"
          ]
        },
        {
          "output_type": "stream",
          "name": "stderr",
          "text": [
            "train: 27it [00:01, 14.72it/s, epoch=12, iter=26, loss=381]\n",
            " 26%|██▌       | 13/50 [00:32<01:28,  2.40s/it]"
          ]
        },
        {
          "output_type": "stream",
          "name": "stdout",
          "text": [
            "[val] Epoch12, val_loss=385.2532741001674\n"
          ]
        },
        {
          "output_type": "stream",
          "name": "stderr",
          "text": [
            "train: 27it [00:01, 14.75it/s, epoch=13, iter=26, loss=361]\n",
            " 28%|██▊       | 14/50 [00:34<01:24,  2.36s/it]"
          ]
        },
        {
          "output_type": "stream",
          "name": "stdout",
          "text": [
            "[val] Epoch13, val_loss=385.4990539550781\n"
          ]
        },
        {
          "output_type": "stream",
          "name": "stderr",
          "text": [
            "train: 27it [00:02, 10.95it/s, epoch=14, iter=26, loss=343]\n",
            " 30%|███       | 15/50 [00:37<01:28,  2.52s/it]"
          ]
        },
        {
          "output_type": "stream",
          "name": "stdout",
          "text": [
            "[val] Epoch14, val_loss=365.4595424107143\n"
          ]
        },
        {
          "output_type": "stream",
          "name": "stderr",
          "text": [
            "train: 27it [00:02, 13.26it/s, epoch=15, iter=26, loss=340]\n",
            " 32%|███▏      | 16/50 [00:40<01:25,  2.52s/it]"
          ]
        },
        {
          "output_type": "stream",
          "name": "stdout",
          "text": [
            "[val] Epoch15, val_loss=367.1955348423549\n"
          ]
        },
        {
          "output_type": "stream",
          "name": "stderr",
          "text": [
            "train: 27it [00:02, 11.76it/s, epoch=16, iter=26, loss=353]\n",
            " 34%|███▍      | 17/50 [00:43<01:26,  2.61s/it]"
          ]
        },
        {
          "output_type": "stream",
          "name": "stdout",
          "text": [
            "[val] Epoch16, val_loss=352.84287806919644\n"
          ]
        },
        {
          "output_type": "stream",
          "name": "stderr",
          "text": [
            "train: 27it [00:01, 14.19it/s, epoch=17, iter=26, loss=323]\n",
            " 36%|███▌      | 18/50 [00:45<01:20,  2.52s/it]"
          ]
        },
        {
          "output_type": "stream",
          "name": "stdout",
          "text": [
            "[val] Epoch17, val_loss=349.55772181919644\n"
          ]
        },
        {
          "output_type": "stream",
          "name": "stderr",
          "text": [
            "train: 27it [00:01, 14.79it/s, epoch=18, iter=26, loss=322]\n",
            " 38%|███▊      | 19/50 [00:47<01:15,  2.44s/it]"
          ]
        },
        {
          "output_type": "stream",
          "name": "stdout",
          "text": [
            "[val] Epoch18, val_loss=344.9101998465402\n"
          ]
        },
        {
          "output_type": "stream",
          "name": "stderr",
          "text": [
            "train: 27it [00:01, 14.92it/s, epoch=19, iter=26, loss=306]\n",
            " 40%|████      | 20/50 [00:49<01:11,  2.37s/it]"
          ]
        },
        {
          "output_type": "stream",
          "name": "stdout",
          "text": [
            "[val] Epoch19, val_loss=331.73697771344865\n"
          ]
        },
        {
          "output_type": "stream",
          "name": "stderr",
          "text": [
            "train: 27it [00:01, 14.83it/s, epoch=20, iter=26, loss=288]\n",
            " 42%|████▏     | 21/50 [00:52<01:07,  2.33s/it]"
          ]
        },
        {
          "output_type": "stream",
          "name": "stdout",
          "text": [
            "[val] Epoch20, val_loss=324.22001211983815\n"
          ]
        },
        {
          "output_type": "stream",
          "name": "stderr",
          "text": [
            "train: 27it [00:01, 14.19it/s, epoch=21, iter=26, loss=280]\n",
            " 44%|████▍     | 22/50 [00:54<01:05,  2.35s/it]"
          ]
        },
        {
          "output_type": "stream",
          "name": "stdout",
          "text": [
            "[val] Epoch21, val_loss=319.46970912388394\n"
          ]
        },
        {
          "output_type": "stream",
          "name": "stderr",
          "text": [
            "train: 27it [00:02, 11.87it/s, epoch=22, iter=26, loss=289]\n",
            " 46%|████▌     | 23/50 [00:57<01:07,  2.48s/it]"
          ]
        },
        {
          "output_type": "stream",
          "name": "stdout",
          "text": [
            "[val] Epoch22, val_loss=344.3278023856027\n"
          ]
        },
        {
          "output_type": "stream",
          "name": "stderr",
          "text": [
            "train: 27it [00:02, 13.14it/s, epoch=23, iter=26, loss=278]\n",
            " 48%|████▊     | 24/50 [00:59<01:04,  2.48s/it]"
          ]
        },
        {
          "output_type": "stream",
          "name": "stdout",
          "text": [
            "[val] Epoch23, val_loss=312.0010419573103\n"
          ]
        },
        {
          "output_type": "stream",
          "name": "stderr",
          "text": [
            "train: 27it [00:01, 14.85it/s, epoch=24, iter=26, loss=260]\n",
            " 50%|█████     | 25/50 [01:01<01:00,  2.40s/it]"
          ]
        },
        {
          "output_type": "stream",
          "name": "stdout",
          "text": [
            "[val] Epoch24, val_loss=315.0807669503348\n"
          ]
        },
        {
          "output_type": "stream",
          "name": "stderr",
          "text": [
            "train: 27it [00:02, 13.02it/s, epoch=25, iter=26, loss=254]\n",
            " 52%|█████▏    | 26/50 [01:04<00:56,  2.37s/it]"
          ]
        },
        {
          "output_type": "stream",
          "name": "stdout",
          "text": [
            "[val] Epoch25, val_loss=315.9038282121931\n"
          ]
        },
        {
          "output_type": "stream",
          "name": "stderr",
          "text": [
            "train: 27it [00:00, 27.10it/s, epoch=26, iter=26, loss=248]\n",
            " 54%|█████▍    | 27/50 [01:05<00:46,  2.03s/it]"
          ]
        },
        {
          "output_type": "stream",
          "name": "stdout",
          "text": [
            "[val] Epoch26, val_loss=308.157470703125\n"
          ]
        },
        {
          "output_type": "stream",
          "name": "stderr",
          "text": [
            "train: 27it [00:01, 26.92it/s, epoch=27, iter=26, loss=241]\n",
            " 56%|█████▌    | 28/50 [01:06<00:39,  1.79s/it]"
          ]
        },
        {
          "output_type": "stream",
          "name": "stdout",
          "text": [
            "[val] Epoch27, val_loss=306.43861389160156\n"
          ]
        },
        {
          "output_type": "stream",
          "name": "stderr",
          "text": [
            "train: 27it [00:01, 17.41it/s, epoch=28, iter=26, loss=237]\n",
            " 58%|█████▊    | 29/50 [01:09<00:42,  2.04s/it]"
          ]
        },
        {
          "output_type": "stream",
          "name": "stdout",
          "text": [
            "[val] Epoch28, val_loss=327.3298012869699\n"
          ]
        },
        {
          "output_type": "stream",
          "name": "stderr",
          "text": [
            "train: 27it [00:01, 18.02it/s, epoch=29, iter=26, loss=237]\n",
            " 60%|██████    | 30/50 [01:11<00:39,  1.95s/it]"
          ]
        },
        {
          "output_type": "stream",
          "name": "stdout",
          "text": [
            "[val] Epoch29, val_loss=292.7179739815848\n"
          ]
        },
        {
          "output_type": "stream",
          "name": "stderr",
          "text": [
            "train: 27it [00:01, 24.36it/s, epoch=30, iter=26, loss=226]\n",
            " 62%|██████▏   | 31/50 [01:12<00:33,  1.77s/it]"
          ]
        },
        {
          "output_type": "stream",
          "name": "stdout",
          "text": [
            "[val] Epoch30, val_loss=294.36479622977123\n"
          ]
        },
        {
          "output_type": "stream",
          "name": "stderr",
          "text": [
            "train: 27it [00:01, 25.09it/s, epoch=31, iter=26, loss=223]\n",
            " 64%|██████▍   | 32/50 [01:13<00:29,  1.64s/it]"
          ]
        },
        {
          "output_type": "stream",
          "name": "stdout",
          "text": [
            "[val] Epoch31, val_loss=297.0901620047433\n"
          ]
        },
        {
          "output_type": "stream",
          "name": "stderr",
          "text": [
            "train: 27it [00:00, 27.28it/s, epoch=32, iter=26, loss=227]\n",
            " 66%|██████▌   | 33/50 [01:14<00:25,  1.51s/it]"
          ]
        },
        {
          "output_type": "stream",
          "name": "stdout",
          "text": [
            "[val] Epoch32, val_loss=290.98724583217074\n"
          ]
        },
        {
          "output_type": "stream",
          "name": "stderr",
          "text": [
            "train: 27it [00:00, 27.19it/s, epoch=33, iter=26, loss=209]\n",
            " 68%|██████▊   | 34/50 [01:16<00:22,  1.42s/it]"
          ]
        },
        {
          "output_type": "stream",
          "name": "stdout",
          "text": [
            "[val] Epoch33, val_loss=283.63299560546875\n"
          ]
        },
        {
          "output_type": "stream",
          "name": "stderr",
          "text": [
            "train: 27it [00:01, 26.89it/s, epoch=34, iter=26, loss=211]\n",
            " 70%|███████   | 35/50 [01:17<00:20,  1.36s/it]"
          ]
        },
        {
          "output_type": "stream",
          "name": "stdout",
          "text": [
            "[val] Epoch34, val_loss=290.72270638602123\n"
          ]
        },
        {
          "output_type": "stream",
          "name": "stderr",
          "text": [
            "train: 27it [00:01, 26.91it/s, epoch=35, iter=26, loss=205]\n",
            " 72%|███████▏  | 36/50 [01:18<00:18,  1.32s/it]"
          ]
        },
        {
          "output_type": "stream",
          "name": "stdout",
          "text": [
            "[val] Epoch35, val_loss=289.3534240722656\n"
          ]
        },
        {
          "output_type": "stream",
          "name": "stderr",
          "text": [
            "train: 27it [00:01, 26.75it/s, epoch=36, iter=26, loss=201]\n",
            " 74%|███████▍  | 37/50 [01:19<00:16,  1.30s/it]"
          ]
        },
        {
          "output_type": "stream",
          "name": "stdout",
          "text": [
            "[val] Epoch36, val_loss=279.1604701450893\n"
          ]
        },
        {
          "output_type": "stream",
          "name": "stderr",
          "text": [
            "train: 27it [00:00, 27.04it/s, epoch=37, iter=26, loss=194]\n",
            " 76%|███████▌  | 38/50 [01:21<00:15,  1.27s/it]"
          ]
        },
        {
          "output_type": "stream",
          "name": "stdout",
          "text": [
            "[val] Epoch37, val_loss=284.27518790108815\n"
          ]
        },
        {
          "output_type": "stream",
          "name": "stderr",
          "text": [
            "train: 27it [00:00, 27.08it/s, epoch=38, iter=26, loss=195]\n",
            " 78%|███████▊  | 39/50 [01:22<00:13,  1.25s/it]"
          ]
        },
        {
          "output_type": "stream",
          "name": "stdout",
          "text": [
            "[val] Epoch38, val_loss=275.71153477260043\n"
          ]
        },
        {
          "output_type": "stream",
          "name": "stderr",
          "text": [
            "train: 27it [00:00, 27.16it/s, epoch=39, iter=26, loss=190]\n",
            " 80%|████████  | 40/50 [01:23<00:12,  1.24s/it]"
          ]
        },
        {
          "output_type": "stream",
          "name": "stdout",
          "text": [
            "[val] Epoch39, val_loss=287.9308624267578\n"
          ]
        },
        {
          "output_type": "stream",
          "name": "stderr",
          "text": [
            "train: 27it [00:01, 23.57it/s, epoch=40, iter=26, loss=185]\n",
            " 82%|████████▏ | 41/50 [01:24<00:11,  1.30s/it]"
          ]
        },
        {
          "output_type": "stream",
          "name": "stdout",
          "text": [
            "[val] Epoch40, val_loss=274.59777396065846\n"
          ]
        },
        {
          "output_type": "stream",
          "name": "stderr",
          "text": [
            "train: 27it [00:01, 23.85it/s, epoch=41, iter=26, loss=183]\n",
            " 84%|████████▍ | 42/50 [01:26<00:10,  1.32s/it]"
          ]
        },
        {
          "output_type": "stream",
          "name": "stdout",
          "text": [
            "[val] Epoch41, val_loss=274.7691737583705\n"
          ]
        },
        {
          "output_type": "stream",
          "name": "stderr",
          "text": [
            "train: 27it [00:01, 24.45it/s, epoch=42, iter=26, loss=190]\n",
            " 86%|████████▌ | 43/50 [01:27<00:09,  1.33s/it]"
          ]
        },
        {
          "output_type": "stream",
          "name": "stdout",
          "text": [
            "[val] Epoch42, val_loss=297.91871861049106\n"
          ]
        },
        {
          "output_type": "stream",
          "name": "stderr",
          "text": [
            "train: 27it [00:01, 24.50it/s, epoch=43, iter=26, loss=192]\n",
            " 88%|████████▊ | 44/50 [01:29<00:07,  1.33s/it]"
          ]
        },
        {
          "output_type": "stream",
          "name": "stdout",
          "text": [
            "[val] Epoch43, val_loss=273.60826328822543\n"
          ]
        },
        {
          "output_type": "stream",
          "name": "stderr",
          "text": [
            "train: 27it [00:01, 25.00it/s, epoch=44, iter=26, loss=177]\n",
            " 90%|█████████ | 45/50 [01:30<00:06,  1.32s/it]"
          ]
        },
        {
          "output_type": "stream",
          "name": "stdout",
          "text": [
            "[val] Epoch44, val_loss=268.32962690080916\n"
          ]
        },
        {
          "output_type": "stream",
          "name": "stderr",
          "text": [
            "train: 27it [00:00, 27.05it/s, epoch=45, iter=26, loss=177]\n",
            " 92%|█████████▏| 46/50 [01:31<00:05,  1.29s/it]"
          ]
        },
        {
          "output_type": "stream",
          "name": "stdout",
          "text": [
            "[val] Epoch45, val_loss=268.69080897739957\n"
          ]
        },
        {
          "output_type": "stream",
          "name": "stderr",
          "text": [
            "train: 27it [00:01, 26.93it/s, epoch=46, iter=26, loss=177]\n",
            " 94%|█████████▍| 47/50 [01:32<00:03,  1.27s/it]"
          ]
        },
        {
          "output_type": "stream",
          "name": "stdout",
          "text": [
            "[val] Epoch46, val_loss=271.8294764927455\n"
          ]
        },
        {
          "output_type": "stream",
          "name": "stderr",
          "text": [
            "train: 27it [00:00, 27.25it/s, epoch=47, iter=26, loss=170]\n",
            " 96%|█████████▌| 48/50 [01:33<00:02,  1.25s/it]"
          ]
        },
        {
          "output_type": "stream",
          "name": "stdout",
          "text": [
            "[val] Epoch47, val_loss=277.07531084333147\n"
          ]
        },
        {
          "output_type": "stream",
          "name": "stderr",
          "text": [
            "train: 27it [00:00, 27.20it/s, epoch=48, iter=26, loss=180]\n",
            " 98%|█████████▊| 49/50 [01:35<00:01,  1.24s/it]"
          ]
        },
        {
          "output_type": "stream",
          "name": "stdout",
          "text": [
            "[val] Epoch48, val_loss=273.39161900111606\n"
          ]
        },
        {
          "output_type": "stream",
          "name": "stderr",
          "text": [
            "train: 27it [00:00, 27.10it/s, epoch=49, iter=26, loss=167]\n",
            "100%|██████████| 50/50 [01:36<00:00,  1.93s/it]"
          ]
        },
        {
          "output_type": "stream",
          "name": "stdout",
          "text": [
            "[val] Epoch49, val_loss=267.34850638253346\n"
          ]
        },
        {
          "output_type": "stream",
          "name": "stderr",
          "text": [
            "\n"
          ]
        },
        {
          "output_type": "execute_result",
          "data": {
            "text/plain": [
              "267.34850638253346"
            ]
          },
          "metadata": {},
          "execution_count": 59
        }
      ],
      "source": [
        "# Probe model\n",
        "reg = Regressor(metric='mse', in_features=2048, n_layer=2, hidden_dim=128, device=device)\n",
        "train_loader, val_loader = load_data(d, 256, \"last_hidden_state\")\n",
        "reg.train_all(train_loader, val_loader, 50, 1e-3)\n",
        "\n",
        "reg.load_state_dict(reg.best_model)\n",
        "reg.requires_grad_(False)\n",
        "reg.evaluate(val_loader)\n",
        "# torch.save(reg, '/content/drive/MyDrive/Colab Notebooks/6.8610_proj/gpt_reg_2_dim8.pth')\n"
      ]
    },
    {
      "cell_type": "code",
      "source": [
        "clf = Classifier(100,in_features=2048, n_layer=1, hidden_dim=2, transformer=model, device=device)\n",
        "clf.linear = torch.load(os.path.join(path, 'gpt_cls_lin.pth'),map_location=device)\n",
        "\n",
        "# train_loader, val_loader = load_data(d, 256,'hidden_state')\n",
        "\n",
        "# Gradient descent\n",
        "l, acc = Perturber(in_features=2048, reg=reg, cls=clf, device=device).perturb(val_loader,None, 40, 0.05)\n",
        "# Gradient ascent\n",
        "l_inc, acc_inc = Perturber(in_features=2048, reg=reg, cls=clf, device=device).perturb(val_loader,None,40, -0.05)\n",
        "# Random perturb\n",
        "l_rand, acc_rand = Perturber(in_features=2048, reg=reg, cls=clf, device=device).perturb(val_loader,None, 40, 0.05, rand=True)"
      ],
      "metadata": {
        "colab": {
          "base_uri": "https://localhost:8080/"
        },
        "id": "up3C1poECJJz",
        "outputId": "901bb8c0-febf-45c9-a5f4-4e1fc55f8c4a"
      },
      "execution_count": 39,
      "outputs": [
        {
          "output_type": "stream",
          "name": "stderr",
          "text": [
            "train: 7it [00:03,  2.25it/s, epoch=0, iter=6, loss=179]\n",
            "train: 7it [00:04,  1.69it/s, epoch=1, iter=6, loss=179]\n",
            "train: 7it [00:02,  2.65it/s, epoch=2, iter=6, loss=179]\n",
            "train: 7it [00:02,  2.58it/s, epoch=3, iter=6, loss=179]\n",
            "train: 7it [00:01,  3.99it/s, epoch=4, iter=6, loss=179]\n",
            "train: 7it [00:01,  3.93it/s, epoch=5, iter=6, loss=179]\n",
            "train: 7it [00:01,  3.58it/s, epoch=6, iter=6, loss=179]\n",
            "train: 7it [00:02,  2.98it/s, epoch=7, iter=6, loss=179]\n",
            "train: 7it [00:02,  3.14it/s, epoch=8, iter=6, loss=179]\n",
            "train: 7it [00:01,  3.91it/s, epoch=9, iter=6, loss=179]\n",
            "train: 7it [00:01,  3.90it/s, epoch=10, iter=6, loss=179]\n",
            "train: 7it [00:01,  3.82it/s, epoch=11, iter=6, loss=179]\n",
            "train: 7it [00:01,  3.88it/s, epoch=12, iter=6, loss=179]\n",
            "train: 7it [00:01,  3.78it/s, epoch=13, iter=6, loss=179]\n",
            "train: 7it [00:02,  2.85it/s, epoch=14, iter=6, loss=179]\n",
            "train: 7it [00:02,  2.88it/s, epoch=15, iter=6, loss=179]\n",
            "train: 7it [00:01,  3.87it/s, epoch=16, iter=6, loss=179]\n",
            "train: 7it [00:01,  3.87it/s, epoch=17, iter=6, loss=179]\n",
            "train: 7it [00:02,  3.06it/s, epoch=18, iter=6, loss=179]\n",
            "train: 7it [00:02,  2.86it/s, epoch=19, iter=6, loss=179]\n",
            "train: 7it [00:03,  2.05it/s, epoch=20, iter=6, loss=179]\n",
            "train: 7it [00:03,  1.76it/s, epoch=21, iter=6, loss=179]\n",
            "train: 7it [00:02,  2.78it/s, epoch=22, iter=6, loss=179]\n",
            "train: 7it [00:02,  2.47it/s, epoch=23, iter=6, loss=179]\n",
            "train: 7it [00:01,  3.88it/s, epoch=24, iter=6, loss=179]\n",
            "train: 7it [00:01,  3.84it/s, epoch=25, iter=6, loss=179]\n",
            "train: 7it [00:02,  2.90it/s, epoch=26, iter=6, loss=179]\n",
            "train: 7it [00:02,  2.90it/s, epoch=27, iter=6, loss=179]\n",
            "train: 7it [00:01,  3.87it/s, epoch=28, iter=6, loss=179]\n",
            "train: 7it [00:01,  3.81it/s, epoch=29, iter=6, loss=179]\n",
            "train: 7it [00:02,  3.16it/s, epoch=30, iter=6, loss=179]\n",
            "train: 7it [00:02,  2.64it/s, epoch=31, iter=6, loss=179]\n",
            "train: 7it [00:04,  1.61it/s, epoch=32, iter=6, loss=179]\n",
            "train: 7it [00:03,  2.00it/s, epoch=33, iter=6, loss=179]\n",
            "train: 7it [00:02,  2.75it/s, epoch=34, iter=6, loss=179]\n",
            "train: 7it [00:02,  2.82it/s, epoch=35, iter=6, loss=179]\n",
            "train: 7it [00:02,  2.78it/s, epoch=36, iter=6, loss=179]\n",
            "train: 7it [00:02,  2.46it/s, epoch=37, iter=6, loss=179]\n",
            "train: 7it [00:03,  2.01it/s, epoch=38, iter=6, loss=179]\n",
            "train: 7it [00:02,  3.06it/s, epoch=39, iter=6, loss=179]\n",
            "100%|██████████| 40/40 [01:43<00:00,  2.59s/it]\n"
          ]
        }
      ]
    },
    {
      "cell_type": "code",
      "source": [
        "fig, axs = plt.subplots(1,3, figsize=(12,4))\n",
        "dic = {'Activation - Gradient': (l, acc),\n",
        "       \"Activation + Gradient\": (l_inc, acc_inc),\n",
        "       \"Activation + Random Perturbation\": (l_rand, acc_rand)}\n",
        "for ax1, (label, (ls, a)) in zip(axs, dic.items()):\n",
        "    ax2 = ax1.twinx()  # instantiate a second axes that shares the same x-axis\n",
        "\n",
        "\n",
        "    color = 'black'\n",
        "    ax1.set_xlabel('Perturb iterations')\n",
        "    ax1.set_ylabel('Regression loss', color=color)  # we already handled the x-label with ax1\n",
        "    ax1.plot(range(40), ls,color=color)\n",
        "    ax1.tick_params(axis='y', labelcolor=color)\n",
        "    # ax1.set_ylim(np.min(a),np.max(a))\n",
        "    ax1.set_title(label)\n",
        "    ax1.set_ylim(min(ls)*0.8, max(ls)*1.1)\n",
        "\n",
        "\n",
        "    # color = 'tab:orange'\n",
        "    ax2.set_ylabel('Downstream accuracy', color=color)\n",
        "    # ax2.plot(range(40), acc, color=color, linestyle='--')\n",
        "    ax2.bar(range(40), a, color='black',alpha=0.6)\n",
        "    ax2.set_ylim(min(a) - 0.001, max(a)+0.0008)\n",
        "    ax2.tick_params(axis='y', labelcolor=color)\n",
        "\n",
        "fig.tight_layout()  # otherwise the right y-label is slightly clipped\n",
        "plt.show()"
      ],
      "metadata": {
        "colab": {
          "base_uri": "https://localhost:8080/",
          "height": 342
        },
        "id": "4_oi8KYQFGZV",
        "outputId": "3fd0955b-dbb6-4672-ad38-5f0b06ae0bf3"
      },
      "execution_count": 40,
      "outputs": [
        {
          "output_type": "display_data",
          "data": {
            "text/plain": [
              "<Figure size 1200x400 with 6 Axes>"
            ],
            "image/png": "[encoded data removed]"
          },
          "metadata": {}
        }
      ]
    },
    {
      "cell_type": "code",
      "execution_count": 60,
      "metadata": {
        "id": "aBmv3mF_XU7z"
      },
      "outputs": [],
      "source": [
        "# Conterfactual perturbation\n",
        "e, t, m = d[1392685764]\n",
        "tgt = torch.tensor((df.loc[1392685764, ['lat','lng']].values.astype(np.float32)), dtype=torch.float32)\n",
        "inp = {'last_hidden_state':e.view(1,-1,2048),\n",
        "       'mask':m.view(1,-1),\n",
        "       'input_ids':t.view(1,-1),\n",
        "       'coord':tgt.view(1,-1)}\n",
        "# reg.compute_loss(inp)\n",
        "# reg.to(device)\n",
        "# reg(inp['last_hidden_state'].to(device), inp['mask'].to(device))\n",
        "e = torch.unsqueeze(e, 0)"
      ]
    },
    {
      "cell_type": "code",
      "source": [
        "pert = Perturber(reg=reg, cls=clf, device=device)\n",
        "tgt = torch.tensor([-34.5997,-58.3819], dtype=torch.float32)\n",
        "x_pert = pert.perturb_sample(e, m.view(1,-1), tgt.view(1,-1), epochs=400,lr=0.005)"
      ],
      "metadata": {
        "colab": {
          "base_uri": "https://localhost:8080/"
        },
        "id": "_pod8T7sJRRK",
        "outputId": "65ebc52b-7b95-4c4a-eb16-51ff35259c4d"
      },
      "execution_count": 62,
      "outputs": [
        {
          "output_type": "stream",
          "name": "stdout",
          "text": [
            "21994.48046875\n",
            "19383.66015625\n",
            "16954.646484375\n",
            "14709.9404296875\n",
            "12647.083984375\n",
            "10760.478515625\n",
            "9123.28515625\n",
            "7694.89892578125\n",
            "6455.6748046875\n",
            "5377.00341796875\n",
            "4398.521484375\n",
            "3586.44140625\n",
            "2887.18603515625\n",
            "2299.56103515625\n",
            "1862.413818359375\n",
            "1530.943359375\n",
            "1276.9017333984375\n",
            "1094.2845458984375\n",
            "978.7129516601562\n",
            "911.5956420898438\n",
            "887.435791015625\n",
            "883.9605712890625\n",
            "891.3782348632812\n",
            "901.2406616210938\n",
            "908.3767700195312\n",
            "908.9119873046875\n",
            "898.8663940429688\n",
            "876.7753295898438\n",
            "842.7096557617188\n",
            "799.0301513671875\n",
            "747.1845092773438\n",
            "689.6019897460938\n",
            "637.84619140625\n",
            "586.0513916015625\n",
            "534.1895751953125\n",
            "483.4965515136719\n",
            "435.052001953125\n",
            "389.7395324707031\n",
            "348.2236022949219\n",
            "310.9435119628906\n",
            "278.11669921875\n",
            "249.7527618408203\n",
            "225.68006896972656\n",
            "208.60047912597656\n",
            "194.9309539794922\n",
            "183.85423278808594\n",
            "174.85415649414062\n",
            "167.42562866210938\n",
            "160.87451171875\n",
            "154.726318359375\n",
            "148.85414123535156\n",
            "143.24496459960938\n",
            "137.672119140625\n",
            "132.14163208007812\n",
            "127.31694030761719\n",
            "122.37340545654297\n",
            "117.38346862792969\n",
            "112.29975128173828\n",
            "107.14224243164062\n",
            "102.04847717285156\n",
            "97.04911804199219\n",
            "92.17404174804688\n",
            "87.45086669921875\n",
            "82.90399169921875\n",
            "78.55355834960938\n",
            "74.4152603149414\n",
            "70.50038146972656\n",
            "66.81515502929688\n",
            "63.36158752441406\n",
            "60.1174430847168\n",
            "57.09931182861328\n",
            "54.3040771484375\n",
            "51.72161102294922\n",
            "49.33834457397461\n",
            "47.13822555541992\n",
            "45.03512954711914\n",
            "43.02008056640625\n",
            "41.119911193847656\n",
            "39.31845474243164\n",
            "37.601078033447266\n",
            "35.95512771606445\n",
            "34.369956970214844\n",
            "32.83732604980469\n",
            "31.350902557373047\n",
            "29.906402587890625\n",
            "28.501344680786133\n",
            "27.134557723999023\n",
            "25.80610466003418\n",
            "24.516942977905273\n",
            "23.2850341796875\n",
            "22.09811782836914\n",
            "20.955242156982422\n",
            "19.856666564941406\n",
            "18.8026065826416\n",
            "17.79311180114746\n",
            "16.828147888183594\n",
            "15.907393455505371\n",
            "15.030220985412598\n",
            "14.195913314819336\n",
            "13.403441429138184\n",
            "12.651534080505371\n",
            "11.938884735107422\n",
            "11.263914108276367\n",
            "10.624959945678711\n",
            "10.020323753356934\n",
            "9.448301315307617\n",
            "8.907113075256348\n",
            "8.394989013671875\n",
            "7.910329818725586\n",
            "7.451565742492676\n",
            "7.01711368560791\n",
            "6.605599880218506\n",
            "6.215715408325195\n",
            "5.846261978149414\n",
            "5.513803005218506\n",
            "5.201404094696045\n",
            "4.904914379119873\n",
            "4.623597621917725\n",
            "4.356855869293213\n",
            "4.104094505310059\n",
            "3.8647239208221436\n",
            "3.6382808685302734\n",
            "3.424241065979004\n",
            "3.2220849990844727\n",
            "3.0313057899475098\n",
            "2.8514010906219482\n",
            "2.681859016418457\n",
            "2.5221619606018066\n",
            "2.3718016147613525\n",
            "2.230285167694092\n",
            "2.097064256668091\n",
            "1.9716686010360718\n",
            "1.8536503314971924\n",
            "1.7425307035446167\n",
            "1.6378746032714844\n",
            "1.5393046140670776\n",
            "1.44640052318573\n",
            "1.358833909034729\n",
            "1.2762525081634521\n",
            "1.1974196434020996\n",
            "1.1222169399261475\n",
            "1.0511350631713867\n",
            "0.9839909672737122\n",
            "0.9206060767173767\n",
            "0.8608032464981079\n",
            "0.8044208884239197\n",
            "0.7513240575790405\n",
            "0.7013393640518188\n",
            "0.654340386390686\n",
            "0.6101881265640259\n",
            "0.568739116191864\n",
            "0.529873788356781\n",
            "0.49343985319137573\n",
            "0.4593258798122406\n",
            "0.4273870587348938\n",
            "0.39751651883125305\n",
            "0.36958521604537964\n",
            "0.34348684549331665\n",
            "0.3191004991531372\n",
            "0.29633280634880066\n",
            "0.2750704884529114\n",
            "0.255228191614151\n",
            "0.23670543730258942\n",
            "0.2194311022758484\n",
            "0.20330792665481567\n",
            "0.1882789433002472\n",
            "0.1742713749408722\n",
            "0.16121543943881989\n",
            "0.14905042946338654\n",
            "0.13772892951965332\n",
            "0.12719270586967468\n",
            "0.1173945888876915\n",
            "0.10828423500061035\n",
            "0.09982064366340637\n",
            "0.09196741133928299\n",
            "0.08468125760555267\n",
            "0.0779261514544487\n",
            "0.0716729685664177\n",
            "0.06587890535593033\n",
            "0.06052186340093613\n",
            "0.05557224154472351\n",
            "0.05099579691886902\n",
            "0.04677150398492813\n",
            "0.042871858924627304\n",
            "0.03927675262093544\n",
            "0.03596586734056473\n",
            "0.03291303291916847\n",
            "0.03010222129523754\n",
            "0.027515197172760963\n",
            "0.02513575181365013\n",
            "0.022946706041693687\n",
            "0.02093476429581642\n",
            "0.019087053835392\n",
            "0.017390480265021324\n",
            "0.015832800418138504\n",
            "0.01440558210015297\n",
            "0.01309586875140667\n",
            "0.0118964072316885\n",
            "0.01079963706433773\n",
            "0.009795819409191608\n",
            "0.008879009634256363\n",
            "0.00804069172590971\n",
            "0.00727627519518137\n",
            "0.006579232402145863\n",
            "0.005944590549916029\n",
            "0.005365830380469561\n",
            "0.004840575624257326\n",
            "0.004361767787486315\n",
            "0.0039285533130168915\n",
            "0.003535137977451086\n",
            "0.0031778239645063877\n",
            "0.0028547479305416346\n",
            "0.0025616330094635487\n",
            "0.002297332976013422\n",
            "0.002058192389085889\n",
            "0.0018421551212668419\n",
            "0.0016469599213451147\n",
            "0.0014709382085129619\n",
            "0.0013122395612299442\n",
            "0.001170482486486435\n",
            "0.0010445686057209969\n",
            "0.000931606802623719\n",
            "0.0008301628986373544\n",
            "0.0007388548110611737\n",
            "0.0006571912672370672\n",
            "0.0005836545024067163\n",
            "0.0005181145388633013\n",
            "0.0004593287594616413\n",
            "0.0004068311245646328\n",
            "0.00035982709960080683\n",
            "0.0003178422339260578\n",
            "0.0002805828407872468\n",
            "0.00024718570057302713\n",
            "0.00021758698858320713\n",
            "0.0001911753206513822\n",
            "0.00016779129509814084\n",
            "0.0001469884009566158\n",
            "0.00012856224202550948\n",
            "0.0001123821857618168\n",
            "9.800682892091572e-05\n",
            "8.5435836808756e-05\n",
            "7.425529474858195e-05\n",
            "6.442252924898639e-05\n",
            "5.5842174333520234e-05\n",
            "4.8309520934708416e-05\n",
            "4.167000588495284e-05\n",
            "3.5943987313658e-05\n",
            "3.0807954317424446e-05\n",
            "2.6429261197336018e-05\n",
            "2.2623753466177732e-05\n",
            "1.9297302060294896e-05\n",
            "1.6389858501497656e-05\n",
            "1.3871009286958724e-05\n",
            "1.172873453469947e-05\n",
            "9.84317739494145e-06\n",
            "8.262235496658832e-06\n",
            "6.9029920268803835e-06\n",
            "5.7245633797720075e-06\n",
            "4.7296343836933374e-06\n",
            "3.875073161907494e-06\n",
            "3.1779054552316666e-06\n",
            "2.5686531444080174e-06\n",
            "2.060820406768471e-06\n",
            "1.6595367924310267e-06\n",
            "1.3100361684337258e-06\n",
            "1.0239382390864193e-06\n",
            "7.907001418061554e-07\n",
            "6.025220500305295e-07\n",
            "4.5617343857884407e-07\n",
            "3.3668766263872385e-07\n",
            "2.436936483718455e-07\n",
            "1.749867806211114e-07\n",
            "1.1624069884419441e-07\n",
            "7.692869985476136e-08\n",
            "4.683533916249871e-08\n",
            "2.6833731681108475e-08\n",
            "1.342414179816842e-08\n",
            "6.119080353528261e-09\n",
            "3.1723175197839737e-09\n",
            "2.713932190090418e-09\n",
            "5.2677933126688e-09\n",
            "9.349605534225702e-09\n",
            "1.3744283933192492e-08\n",
            "1.9106664694845676e-08\n",
            "2.5705958250910044e-08\n",
            "3.103195922449231e-08\n",
            "3.6881829146295786e-08\n",
            "4.0723534766584635e-08\n",
            "4.514731699600816e-08\n",
            "4.84651536680758e-08\n",
            "5.048059392720461e-08\n",
            "5.315814632922411e-08\n",
            "5.566107574850321e-08\n",
            "5.553738446906209e-08\n",
            "5.681067705154419e-08\n",
            "5.8098521549254656e-08\n",
            "5.8098521549254656e-08\n",
            "5.8098521549254656e-08\n",
            "5.8098521549254656e-08\n",
            "5.681067705154419e-08\n",
            "5.681067705154419e-08\n",
            "5.553738446906209e-08\n",
            "5.553738446906209e-08\n",
            "5.553738446906209e-08\n",
            "5.2830728236585855e-08\n",
            "5.169567884877324e-08\n",
            "5.048059392720461e-08\n",
            "5.071342457085848e-08\n",
            "4.8094079829752445e-08\n",
            "4.8203219193965197e-08\n",
            "4.4528860598802567e-08\n",
            "4.349567461758852e-08\n",
            "4.128378350287676e-08\n",
            "4.030880518257618e-08\n",
            "4.030880518257618e-08\n",
            "3.6940036807209253e-08\n",
            "3.4902768675237894e-08\n",
            "3.4371623769402504e-08\n",
            "3.338936949148774e-08\n",
            "3.2421667128801346e-08\n",
            "3.026798367500305e-08\n",
            "2.7539499569684267e-08\n",
            "2.7539499569684267e-08\n",
            "2.5916961021721363e-08\n",
            "2.5203917175531387e-08\n",
            "2.3544998839497566e-08\n",
            "2.259912434965372e-08\n",
            "2.10275175049901e-08\n",
            "2.10275175049901e-08\n",
            "1.9514118321239948e-08\n",
            "1.7935235518962145e-08\n",
            "1.735315890982747e-08\n",
            "1.6661942936480045e-08\n",
            "1.5323166735470295e-08\n",
            "1.4042598195374012e-08\n",
            "1.342414179816842e-08\n",
            "1.3191311154514551e-08\n",
            "1.3300450518727303e-08\n",
            "1.210719347000122e-08\n",
            "1.1423253454267979e-08\n",
            "1.0863004717975855e-08\n",
            "9.786162991076708e-09\n",
            "9.611540008336306e-09\n",
            "9.094947017729282e-09\n",
            "9.269570000469685e-09\n",
            "8.592905942350626e-09\n",
            "8.185452315956354e-09\n",
            "7.807102520018816e-09\n",
            "7.174094207584858e-09\n",
            "7.254129741340876e-09\n",
            "6.730260793119669e-09\n",
            "6.730260793119669e-09\n",
            "6.235495675355196e-09\n",
            "5.8862497098743916e-09\n",
            "5.820766091346741e-09\n",
            "5.769834388047457e-09\n",
            "5.820766091346741e-09\n",
            "5.486072041094303e-09\n",
            "5.1004462875425816e-09\n",
            "4.729372449219227e-09\n",
            "4.729372449219227e-09\n",
            "4.030880518257618e-09\n",
            "4.030880518257618e-09\n",
            "3.7034624256193638e-09\n",
            "3.7034624256193638e-09\n",
            "3.637978807091713e-09\n",
            "3.637978807091713e-09\n",
            "3.637978807091713e-09\n",
            "3.637978807091713e-09\n",
            "3.637978807091713e-09\n",
            "3.7034624256193638e-09\n",
            "3.026798367500305e-09\n",
            "3.3251126296818256e-09\n",
            "2.975866664201021e-09\n",
            "2.975866664201021e-09\n",
            "2.975866664201021e-09\n",
            "2.975866664201021e-09\n",
            "3.092281986027956e-09\n",
            "2.8085196390748024e-09\n",
            "2.6921043172478676e-09\n",
            "2.6921043172478676e-09\n",
            "2.6921043172478676e-09\n",
            "2.6921043172478676e-09\n",
            "2.422893885523081e-09\n",
            "2.8085196390748024e-09\n",
            "2.5393092073500156e-09\n",
            "2.2846506908535957e-09\n",
            "1.979060471057892e-09\n",
            "1.979060471057892e-09\n",
            "1.8917489796876907e-09\n",
            "1.6661942936480045e-09\n",
            "1.6661942936480045e-09\n",
            "1.6661942936480045e-09\n",
            "1.6661942936480045e-09\n",
            "1.6661942936480045e-09\n",
            "1.6661942936480045e-09\n",
            "1.6661942936480045e-09\n",
            "1.4551915228366852e-09\n",
            "1.4551915228366852e-09\n",
            "1.4551915228366852e-09\n"
          ]
        }
      ]
    },
    {
      "cell_type": "code",
      "execution_count": 63,
      "metadata": {
        "id": "VtT6gL9eXU75"
      },
      "outputs": [],
      "source": [
        "logit1=clf(inp)[0].detach()\n",
        "\n",
        "inp['last_hidden_state'] = x_pert\n",
        "inp['input_ids'] = torch.unsqueeze(t, 0)\n",
        "logit2=clf(inp)[0].detach()\n",
        "\n",
        "logit_diff=(logit1-logit2).detach().cpu().numpy()"
      ]
    },
    {
      "cell_type": "code",
      "execution_count": 64,
      "metadata": {
        "id": "ty0adOa2XU79",
        "colab": {
          "base_uri": "https://localhost:8080/"
        },
        "outputId": "b09d57cc-3368-4287-8e96-411fec1af61a"
      },
      "outputs": [
        {
          "output_type": "stream",
          "name": "stdout",
          "text": [
            "Argentina\n",
            "Brazil\n",
            "Sri Lanka\n",
            "Angola\n",
            "Chile\n",
            "Ghana\n",
            "Ecuador\n",
            "Zambia\n",
            "South Africa\n",
            "Nicaragua\n",
            "Yemen\n",
            "Nigeria\n",
            "Sudan\n",
            "Burkina Faso\n",
            "Bolivia\n",
            "Senegal\n",
            "Azerbaijan\n",
            "Paraguay\n",
            "Uganda\n",
            "Egypt\n",
            "Madagascar\n",
            "Colombia\n",
            "New Zealand\n",
            "Côte d'Ivoire\n",
            "Mozambique\n",
            "Kenya\n",
            "Algeria\n",
            "Benin\n",
            "Zimbabwe\n",
            "India\n",
            "Cameroon\n",
            "Greece\n",
            "Haiti\n",
            "Syria\n",
            "Oman\n",
            "Vietnam\n",
            "Tanzania\n",
            "Ethiopia\n",
            "United States\n",
            "Puerto Rico\n",
            "Libya\n",
            "Dominican Republic\n",
            "Bosnia and Herzegovina\n",
            "Russia\n",
            "Canada\n",
            "Germany\n",
            "El Salvador\n",
            "Turkey\n",
            "Tunisia\n",
            "Malaysia\n",
            "Romania\n",
            "Turkmenistan\n",
            "Lebanon\n",
            "Finland\n",
            "Czechia\n",
            "Sweden\n",
            "Netherlands\n",
            "Bulgaria\n",
            "Guatemala\n",
            "Peru\n",
            "Belarus\n",
            "Pakistan\n",
            "Afghanistan\n",
            "Congo (Kinshasa)\n",
            "Indonesia\n",
            "Venezuela\n",
            "Jordan\n",
            "Serbia\n",
            "Cuba\n",
            "Hungary\n",
            "Morocco\n",
            "Italy\n",
            "France\n",
            "Taiwan\n",
            "Saudi Arabia\n",
            "Australia\n",
            "Guinea\n",
            "Belgium\n",
            "Israel\n",
            "Somalia\n",
            "Mexico\n",
            "Ukraine\n",
            "Iraq\n",
            "Thailand\n",
            "North Korea\n",
            "Bangladesh\n",
            "Poland\n",
            "Iran\n",
            "Kazakhstan\n",
            "Nepal\n",
            "Japan\n",
            "Spain\n",
            "United Kingdom\n",
            "Myanmar\n",
            "Portugal\n",
            "Uzbekistan\n",
            "Honduras\n",
            "China\n",
            "Philippines\n",
            "South Korea\n"
          ]
        }
      ],
      "source": [
        "# np.argsort(logit1.numpy()-logit2.numpy())\n",
        "mp = {i:'' for i in range(100)}\n",
        "for id in df_major.index.values:\n",
        "    mp[df_major.loc[id, 'country_id'].astype(np.int64)] = df_major.loc[id, 'country']\n",
        "for i in np.argsort(logit1.detach().cpu().numpy()-logit2.detach().cpu().numpy()):print(mp[i.item()])\n",
        "# print(logit1-logit2)"
      ]
    },
    {
      "cell_type": "code",
      "source": [
        "logit_diff=(logit1-logit2).detach().cpu().numpy()\n"
      ],
      "metadata": {
        "id": "C_s1nFdD6OHk"
      },
      "execution_count": 65,
      "outputs": []
    },
    {
      "cell_type": "code",
      "source": [
        "import cartopy.crs as ccrs\n",
        "\n",
        "lat=[df_major[(df_major.country_id==i) & (df_major.capital=='primary')].lat.values[0] for i in range(100)]\n",
        "lng=[df_major[(df_major.country_id==i) & (df_major.capital=='primary')].lng.values[0] for i in range(100)]\n",
        "# x,y=np.linspace(-180,180,1000),np.linspace(-90,90,1000)\n",
        "# z=griddata(np.array([[lg,lt] for lg,lt in zip(lng,lat)]), logit_diff, (x[None,:], y[:,None]),method='cubic',fill_value=1)\n",
        "fig,ax=plt.subplots(subplot_kw={'projection': ccrs.PlateCarree()})\n",
        "# c=ax.pcolormesh(x,y,z,cmap='RdBu', vmin=-5, vmax=5)\n",
        "ax.scatter(lng,lat,s=np.abs(logit_diff)*40,c=np.sign(logit_diff),cmap='RdBu')\n",
        "ax.coastlines()\n",
        "ax.gridlines()\n",
        "\n",
        "# fig.colorbar(c, ax=ax)\n",
        "\n",
        "plt.show()"
      ],
      "metadata": {
        "id": "Cq3D07tuW5Um",
        "colab": {
          "base_uri": "https://localhost:8080/",
          "height": 226
        },
        "outputId": "563a7de0-7d21-42ca-9ee8-daf2322aa7b5"
      },
      "execution_count": 66,
      "outputs": [
        {
          "output_type": "display_data",
          "data": {
            "text/plain": [
              "<Figure size 640x480 with 1 Axes>"
            ],
            "image/png": "[encoded data removed]"
          },
          "metadata": {}
        }
      ]
    },
    {
      "cell_type": "code",
      "source": [
        "mp_c2id = {v: k for k, v in mp.items()}\n",
        "cname = ['Cuba', 'Mexico','Brazil', 'Argentina', 'United Kingdom', 'China', 'Japan', 'South Korea', 'Chile', 'United States', 'Australia', 'New Zealand', 'Italy', 'Indonesia', 'Haiti', 'South Africa']\n",
        "cid = [mp_c2id[n] for n in cname]\n",
        "colors = np.random.rand(len(cid),3)\n"
      ],
      "metadata": {
        "id": "LAL2P72GZ4TR"
      },
      "execution_count": 70,
      "outputs": []
    },
    {
      "cell_type": "code",
      "source": [
        "clogit = list(zip(cname, -logit_diff[cid],colors))\n",
        "clogit.sort(key=lambda x: -x[1])\n",
        "name = [x[0] for x in clogit]\n",
        "# print(name)\n",
        "l = [x[1] for x in clogit]\n",
        "col = [x[2] for x in clogit]\n",
        "plt.bar(range(len(l)), l, color=col, alpha=0.7)\n",
        "plt.xticks(range(len(l)), labels=name, rotation=70, fontsize=8)\n",
        "plt.title(label)\n"
      ],
      "metadata": {
        "colab": {
          "base_uri": "https://localhost:8080/",
          "height": 544
        },
        "id": "MFtPHQ-AZ9zg",
        "outputId": "72825f44-43a5-4982-c265-5c3f4f7a6a7d"
      },
      "execution_count": 71,
      "outputs": [
        {
          "output_type": "execute_result",
          "data": {
            "text/plain": [
              "Text(0.5, 1.0, 'Activation + Random Perturbation')"
            ]
          },
          "metadata": {},
          "execution_count": 71
        },
        {
          "output_type": "display_data",
          "data": {
            "text/plain": [
              "<Figure size 640x480 with 1 Axes>"
            ],
            "image/png": "[encoded data removed]"
          },
          "metadata": {}
        }
      ]
    },
    {
      "cell_type": "markdown",
      "source": [
        "### Statistical Significance Test"
      ],
      "metadata": {
        "id": "gs9j-uIBNh2s"
      }
    },
    {
      "cell_type": "code",
      "source": [
        "from collections import defaultdict, Counter\n",
        "\n"
      ],
      "metadata": {
        "id": "Yussv-X06WJR"
      },
      "execution_count": null,
      "outputs": []
    },
    {
      "cell_type": "code",
      "source": [
        "labelo,labelp=[],[]\n",
        "\n",
        "with torch.no_grad():\n",
        "  samples = pert.perturbed_samples\n",
        "  ko = set()\n",
        "  for i, x in enumerate(val_loader):\n",
        "    pred = clf.predict(x)\n",
        "    for j in range(pred.shape[0]):\n",
        "      if pred[j] != x['label'][j]:\n",
        "        labelo.append(pred[j].item())\n",
        "        ko.add(tuple(x['coord'][j].numpy()))\n",
        "\n",
        "  for x in samples:\n",
        "    pred = clf.predict(x)\n",
        "    for j in range(pred.shape[0]):\n",
        "      if tuple(x['coord'][j].numpy()) in ko:\n",
        "        labelp.append(pred[j].item())\n",
        "        # ko.add(tuple(x['coord'][j].numpy()))\n",
        "    # labelp.append(clf.predict(x))\n",
        "fo, fe=np.zeros(100), np.zeros(100)\n",
        "for v in labelo:fo[v]+=1\n",
        "for v in labelp: fe[v]+=1\n",
        "fe = fe[np.nonzero(fe)]\n",
        "fo = fo[np.nonzero(fo)]\n",
        "chi2, p_value = chisquare(fe,fo)\n",
        "chi2, p_value"
      ],
      "metadata": {
        "colab": {
          "base_uri": "https://localhost:8080/"
        },
        "id": "MpXK3y88z0tD",
        "outputId": "7c8d8276-9466-4a77-f63d-5b89c8750bdc"
      },
      "execution_count": null,
      "outputs": [
        {
          "output_type": "execute_result",
          "data": {
            "text/plain": [
              "(630.0166125784547, 3.139198200821253e-100)"
            ]
          },
          "metadata": {},
          "execution_count": 41
        }
      ]
    },
    {
      "cell_type": "code",
      "source": [
        "from scipy.stats import ttest_1samp\n",
        "\n",
        "# fo, fe=np.zeros(100), np.zeros(100)\n",
        "# for v in obs:fo[v]+=1\n",
        "# for v in expt: fe[v]+=1\n",
        "# Perform the chi-square test\n",
        "# chi2, p_value = fisher_exact(fo,fe)\n",
        "# chi2, p_value\n",
        "# res = ttest_1samp(list(dlogit),0)\n",
        "# res.confidence_interval(.95)\n",
        "dl_all = np.array(list(dl.values()))\n",
        "plt.hist(dl_all, 100)\n",
        "res = ttest_1samp(dl_all,0)\n",
        "res, res.confidence_interval(.95)"
      ],
      "metadata": {
        "colab": {
          "base_uri": "https://localhost:8080/",
          "height": 466
        },
        "id": "BZ3EOKK11Kgu",
        "outputId": "898300ac-1dcb-43d2-f701-1993662a69fc"
      },
      "execution_count": null,
      "outputs": [
        {
          "output_type": "execute_result",
          "data": {
            "text/plain": [
              "(TtestResult(statistic=14.53173503532589, pvalue=3.386686307035478e-45, df=1707),\n",
              " ConfidenceInterval(low=0.10243751996982796, high=0.13440414374839563))"
            ]
          },
          "metadata": {},
          "execution_count": 59
        },
        {
          "output_type": "display_data",
          "data": {
            "text/plain": [
              "<Figure size 640x480 with 1 Axes>"
            ],
            "image/png": "[encoded data removed]"
          },
          "metadata": {}
        }
      ]
    },
    {
      "cell_type": "code",
      "source": [
        "# dlogit = []\n",
        "dl=defaultdict(float)\n",
        "with torch.no_grad():\n",
        "  samples = pert.perturbed_samples\n",
        "  for i in range(len(samples)):\n",
        "    labelp = torch.nn.functional.one_hot(samples[i]['label'],100)\n",
        "    label=samples[i]['label']\n",
        "    logit_pert = (clf(samples[i]).cpu()) * labelp\n",
        "\n",
        "    for j in range(logit_pert.shape[0]):\n",
        "      # cor=logit_pert[j,label[j]]\n",
        "      # logit_pert[j,label[j]]=-100\n",
        "      # chg= cor-logit_pert[j].max(-1)[0]\n",
        "      k = tuple(samples[i]['coord'][j].numpy())\n",
        "      # dl[k]=(chg-dl[k])/torch.abs(dl[k])\n",
        "      dl[k] += logit_pert[j].sum() #(logit_pert[j].sum() -dl[k])/dl[k]\n",
        "\n",
        "\n",
        "  for i, x in enumerate(list(val_loader)):\n",
        "    labelo = torch.nn.functional.one_hot(x['label'],100)\n",
        "\n",
        "    logit_ori = (clf(x).cpu()) * labelo\n",
        "\n",
        "    for j in range(logit_ori.shape[0]):\n",
        "      # if torch.argmax(logit_ori[j]) == x['label'][j]:continue\n",
        "      # dlogit.append(dl[tuple(x['coord'][j].numpy())] - logit_ori[j, x['label'][j]])\n",
        "\n",
        "      # cor=logit_ori[j,x['label'][j]]\n",
        "      # logit_ori[j,x['label'][j]]=-100\n",
        "      # chg= cor-logit_ori[j].max(-1)[0]\n",
        "      dl[tuple(x['coord'][j].numpy())]-= logit_ori[j].sum()\n",
        "\n",
        "    # dlogit.append(logit_pert.sum(1)-logit_ori.sum(1))\n",
        "\n",
        "  # for i in range(len(samples)):\n",
        "  #   labelp = torch.nn.functional.one_hot(samples[i]['label'],100)\n",
        "  #   label=samples[i]['label']\n",
        "  #   logit_pert = (clf(samples[i]).cpu()) * labelp\n",
        "\n",
        "  #   for j in range(logit_pert.shape[0]):\n",
        "  #     # cor=logit_pert[j,label[j]]\n",
        "  #     # logit_pert[j,label[j]]=-100\n",
        "  #     # chg= cor-logit_pert[j].max(-1)[0]\n",
        "  #     k = tuple(samples[i]['coord'][j].numpy())\n",
        "  #     # dl[k]=(chg-dl[k])/torch.abs(dl[k])\n",
        "  #     dl[k] += logit_pert[j].sum() #(logit_pert[j].sum() -dl[k])/dl[k]\n",
        "\n",
        "# dlogit=np.array([x.item() for x in dlogit])\n",
        "# dl\n"
      ],
      "metadata": {
        "id": "rWKfjBtbToLg"
      },
      "execution_count": null,
      "outputs": []
    },
    {
      "cell_type": "code",
      "source": [
        "plt.hist(dlogit, 40)"
      ],
      "metadata": {
        "colab": {
          "base_uri": "https://localhost:8080/",
          "height": 680
        },
        "id": "OSp0XkgpCVoK",
        "outputId": "48b59c91-a499-4c64-d47a-9faf6fc4cc0c"
      },
      "execution_count": null,
      "outputs": [
        {
          "output_type": "execute_result",
          "data": {
            "text/plain": [
              "(array([ 2.,  0.,  0.,  0.,  1.,  0.,  2.,  1.,  1.,  5.,  9., 21., 50.,\n",
              "        31., 18., 12., 18., 13., 16., 10.,  9.,  3.,  4.,  4.,  5.,  3.,\n",
              "         3.,  4.,  6.,  0.,  2.,  3.,  0.,  2.,  0.,  0.,  0.,  0.,  1.,\n",
              "         1.]),\n",
              " array([-0.91259766, -0.83834898, -0.76410025, -0.68985158, -0.61560285,\n",
              "        -0.54135418, -0.46710548, -0.39285678, -0.31860811, -0.2443594 ,\n",
              "        -0.1701107 , -0.09586201, -0.02161331,  0.05263538,  0.12688407,\n",
              "         0.20113277,  0.27538148,  0.34963018,  0.42387885,  0.49812755,\n",
              "         0.57237625,  0.64662492,  0.72087365,  0.79512233,  0.86937106,\n",
              "         0.94361973,  1.0178684 ,  1.09211707,  1.16636586,  1.24061453,\n",
              "         1.3148632 ,  1.38911188,  1.46336055,  1.53760934,  1.61185801,\n",
              "         1.68610668,  1.76035535,  1.83460402,  1.90885282,  1.98310149,\n",
              "         2.05735016]),\n",
              " <BarContainer object of 40 artists>)"
            ]
          },
          "metadata": {},
          "execution_count": 39
        },
        {
          "output_type": "display_data",
          "data": {
            "text/plain": [
              "<Figure size 640x480 with 1 Axes>"
            ],
            "image/png": "[encoded data removed]"
          },
          "metadata": {}
        }
      ]
    },
    {
      "cell_type": "code",
      "source": [
        "cg_dec=[]\n",
        "for v in dl.values():\n",
        "  cg_dec.append(v.item())\n",
        "cg_dec = np.array(cg_dec)\n",
        "plt.hist(cg,100,alpha=0.7,density=True,label='- grad')\n",
        "plt.hist(cg_rand,100,alpha=0.7,density=True,label='random ')\n",
        "plt.hist(cg_dec,100,alpha=0.7,density=True,label='+ grad')\n",
        "plt.legend()\n",
        "# cg.mean(),cg.std()\n",
        "cg.mean(),cg.std(),cg_rand.mean(),cg_rand.std(),cg_dec.mean(),cg_dec.std()"
      ],
      "metadata": {
        "colab": {
          "base_uri": "https://localhost:8080/",
          "height": 537
        },
        "id": "Jt2m_RPA8YXd",
        "outputId": "af70e888-faab-4ab4-8944-98a3613b17cd"
      },
      "execution_count": null,
      "outputs": [
        {
          "output_type": "execute_result",
          "data": {
            "text/plain": [
              "(0.13589354700450318,\n",
              " 0.3384490412488969,\n",
              " -0.005309602974170265,\n",
              " 0.2328362146208255,\n",
              " -0.17317263359766655,\n",
              " 0.3759051356093157)"
            ]
          },
          "metadata": {},
          "execution_count": 52
        },
        {
          "output_type": "display_data",
          "data": {
            "text/plain": [
              "<Figure size 640x480 with 1 Axes>"
            ],
            "image/png": "[encoded data removed]"
          },
          "metadata": {}
        }
      ]
    },
    {
      "cell_type": "markdown",
      "source": [
        "## RSA"
      ],
      "metadata": {
        "id": "fkuojmLsmJxf"
      }
    },
    {
      "cell_type": "code",
      "source": [
        "n=100\n",
        "rsm=np.identity(n)\n",
        "ls_id=df_major.index.values\n",
        "for i in range(n):\n",
        "  emb1=d[ls_id[i]][0]\n",
        "  for j in range(n):\n",
        "    emb2=d[ls_id[j]][0]\n",
        "    rsm[i][j]=scipy.stats.spearmanr(emb1.numpy().mean(0),emb2.numpy().mean(0)).statistic\n",
        "\n",
        "rsm\n"
      ],
      "metadata": {
        "colab": {
          "base_uri": "https://localhost:8080/"
        },
        "id": "y6EG7tDpBx2g",
        "outputId": "c2ccaba3-8745-4f28-94ff-8bed7824cb72"
      },
      "execution_count": 72,
      "outputs": [
        {
          "output_type": "execute_result",
          "data": {
            "text/plain": [
              "array([[1.        , 0.81874493, 0.81773178, ..., 0.81016473, 0.83714818,\n",
              "        0.89451015],\n",
              "       [0.81874493, 1.        , 0.85722196, ..., 0.78991887, 0.77301143,\n",
              "        0.83916575],\n",
              "       [0.81773178, 0.85722196, 1.        , ..., 0.77370723, 0.80631036,\n",
              "        0.84933857],\n",
              "       ...,\n",
              "       [0.81016473, 0.78991887, 0.77370723, ..., 1.        , 0.84289299,\n",
              "        0.89453295],\n",
              "       [0.83714818, 0.77301143, 0.80631036, ..., 0.84289299, 1.        ,\n",
              "        0.83169   ],\n",
              "       [0.89451015, 0.83916575, 0.84933857, ..., 0.89453295, 0.83169   ,\n",
              "        1.        ]])"
            ]
          },
          "metadata": {},
          "execution_count": 72
        }
      ]
    },
    {
      "cell_type": "code",
      "source": [
        "!pip install geopy"
      ],
      "metadata": {
        "colab": {
          "base_uri": "https://localhost:8080/"
        },
        "id": "0ZiYD3F_nHeV",
        "outputId": "5a289b98-3f20-4667-e5b5-506827f379c0"
      },
      "execution_count": 73,
      "outputs": [
        {
          "output_type": "stream",
          "name": "stdout",
          "text": [
            "Requirement already satisfied: geopy in /usr/local/lib/python3.10/dist-packages (2.3.0)\n",
            "Requirement already satisfied: geographiclib<3,>=1.52 in /usr/local/lib/python3.10/dist-packages (from geopy) (2.0)\n"
          ]
        }
      ]
    },
    {
      "cell_type": "code",
      "source": [
        "from geopy.distance import geodesic\n",
        "\n",
        "rsmgeo=np.zeros_like(rsm)\n",
        "for i in range(n):\n",
        "  l1=df_major.iloc[i,2:4].values\n",
        "  for j in range(n):\n",
        "    l2=df_major.iloc[j,2:4].values\n",
        "    rsmgeo[i][j]= geodesic(l1, l2).kilometers\n",
        "rsmgeo=np.exp(-rsmgeo*1e-4)"
      ],
      "metadata": {
        "id": "da5rKIKHnJ7D"
      },
      "execution_count": 74,
      "outputs": []
    },
    {
      "cell_type": "code",
      "source": [
        "tau=np.zeros(n)\n",
        "for i in range(n):\n",
        "  tau[i]=scipy.stats.kendalltau(rsm[i], rsmgeo[i]).statistic\n",
        "tau.mean()"
      ],
      "metadata": {
        "colab": {
          "base_uri": "https://localhost:8080/"
        },
        "id": "xiefhiYrq09O",
        "outputId": "44a752f5-ec76-4fd2-aacf-c85458e0b381"
      },
      "execution_count": 76,
      "outputs": [
        {
          "output_type": "execute_result",
          "data": {
            "text/plain": [
              "0.38410101010101017"
            ]
          },
          "metadata": {},
          "execution_count": 76
        }
      ]
    },
    {
      "cell_type": "code",
      "source": [
        "np.argsort(-tau)"
      ],
      "metadata": {
        "colab": {
          "base_uri": "https://localhost:8080/"
        },
        "id": "X7cNJficq6mQ",
        "outputId": "93f58559-bb2e-48c2-c97b-b548bb2fcfab"
      },
      "execution_count": null,
      "outputs": [
        {
          "output_type": "execute_result",
          "data": {
            "text/plain": [
              "array([76, 45, 90, 60, 43, 74, 38, 86, 34,  3, 16, 54, 50, 79, 51, 69, 99,\n",
              "       72, 53, 80, 83, 85, 70, 95, 92, 37, 46, 78, 48, 84, 57, 42, 67, 94,\n",
              "       56, 40, 68, 25, 47, 96, 93, 44, 71,  6, 58, 24, 30,  0, 89, 65, 32,\n",
              "       13, 81, 15, 23, 39, 14, 91, 73, 26,  4, 10, 61, 59, 64, 66,  9, 88,\n",
              "        8, 29, 31, 22, 82, 33, 77, 63, 21, 18, 12,  2, 11, 28, 52, 20, 41,\n",
              "       55, 98,  5, 75, 19,  7, 35, 27, 17,  1, 87, 49, 36, 97, 62])"
            ]
          },
          "metadata": {},
          "execution_count": 29
        }
      ]
    },
    {
      "cell_type": "code",
      "source": [
        "rsa_cnty = ['China', 'United States', 'India', 'Brazil',\n",
        "       'Japan', 'Russia', 'Mexico', 'Turkey', 'United Kingdom',\n",
        "       'Indonesia', 'Germany', 'Argentina', 'Iran',\n",
        "      'Nigeria', 'Canada', 'South Korea', 'France', 'Egypt', 'Australia','Sweden']"
      ],
      "metadata": {
        "id": "QhDYMbVruNZL"
      },
      "execution_count": 77,
      "outputs": []
    },
    {
      "cell_type": "code",
      "source": [
        "n=len(rsa_cnty)\n",
        "rsm,rsmcos, rsml2=np.identity(n),np.identity(n),np.identity(n)\n",
        "cnty_enb = np.zeros((n,2048))\n",
        "for i, name in enumerate(rsa_cnty):\n",
        "  tmp=df_major[df_major.country == name]['id.1'].apply(lambda x: d[x][0].numpy()).values\n",
        "  cnty_enb[i] = np.stack(tmp).mean((0,1))\n",
        "for i in range(n):\n",
        "  # emb1=d[ls_id[i]][0]\n",
        "  for j in range(n):\n",
        "    # emb2=d[ls_id[j]][0]\n",
        "    rsm[i][j]=scipy.stats.spearmanr(cnty_enb[i],cnty_enb[j]).statistic\n",
        "    rsmcos[i][j]=1-scipy.spatial.distance.correlation(cnty_enb[i],cnty_enb[j])\n",
        "    rsml2[i][j]=scipy.spatial.distance.seuclidean(cnty_enb[i],cnty_enb[j],cnty_enb.std(0)**2)\n",
        "\n",
        "# rsml2\n"
      ],
      "metadata": {
        "id": "MoIO_31ju5Lq"
      },
      "execution_count": 79,
      "outputs": []
    },
    {
      "cell_type": "code",
      "source": [
        "tmp=np.exp(-rsml2**2*1e-4)"
      ],
      "metadata": {
        "id": "OjlWW1tbzVLE"
      },
      "execution_count": 84,
      "outputs": []
    },
    {
      "cell_type": "code",
      "source": [
        "fig, axs=plt.subplots(1,3,figsize=(12,6))\n",
        "metrics = ['Spearman', 'Cosine', 'Scaled Euclidean']\n",
        "for i, (ax, d )in enumerate(zip(axs, [rsm, rsmcos, tmp])):\n",
        "  clim = (0.85, 1) if i==1 else None\n",
        "  im = ax.imshow(d, clim=clim)\n",
        "  ax.set_xticks(range(n), rsa_cnty, fontsize=8, rotation=70)\n",
        "  ax.set_yticks(range(n), rsa_cnty, fontsize=8,)\n",
        "  ax.set_title(metrics[i])\n",
        "# im1=ax1.imshow(rsm)\n",
        "# im2=ax2.imshow(rsmcos, clim=(0.85, 1))\n",
        "# im3=ax3.imshow(tmp)\n",
        "# cbar1 = fig.colorbar(im1, ax=ax1, orientation='vertical', fraction=0.04, pad=0.05)\n",
        "# cbar2 = fig.colorbar(im2, ax=ax2, orientation='vertical', fraction=0.04, pad=0.05)\n",
        "# cbar3 = fig.colorbar(im3, ax=ax3, orientation='vertical', fraction=0.06, pad=0.05)\n",
        "# plt.imshow(tmp)\n",
        "# cbar = plt.colorbar()\n",
        "# plt.xticks(range(n), rsa_cnty, rotation=70)\n",
        "# plt.yticks(range(n), (rsa_cnty))\n",
        "# plt.title('Spearman Correlation')\n",
        "plt.subplots_adjust(wspace=0.4)\n",
        "plt.show()"
      ],
      "metadata": {
        "colab": {
          "base_uri": "https://localhost:8080/",
          "height": 378
        },
        "id": "kE8vq_pXqzL-",
        "outputId": "c19e8d64-4aa3-4a96-8f4f-d4719515310c"
      },
      "execution_count": 85,
      "outputs": [
        {
          "output_type": "display_data",
          "data": {
            "text/plain": [
              "<Figure size 1200x600 with 3 Axes>"
            ],
            "image/png": "[encoded data removed]"
          },
          "metadata": {}
        }
      ]
    },
    {
      "cell_type": "code",
      "source": [
        "from geopy.distance import geodesic\n",
        "\n",
        "rsmgeo=np.zeros_like(rsm)\n",
        "for i in range(n):\n",
        "  l1=df_major[df_major.country==rsa_cnty[i]].iloc[:,2:4].values.mean(0)\n",
        "  for j in range(n):\n",
        "    l2=df_major[df_major.country==rsa_cnty[j]].iloc[:,2:4].values.mean(0)\n",
        "    rsmgeo[i][j]= geodesic(l1, l2).kilometers\n"
      ],
      "metadata": {
        "id": "cmt0mZ3sHLw7"
      },
      "execution_count": 86,
      "outputs": []
    },
    {
      "cell_type": "code",
      "source": [
        "plt.imshow(np.exp(-np.power(rsmgeo,2)*2e-8))\n",
        "plt.xticks(range(n), rsa_cnty, fontsize=8, rotation=70)\n",
        "plt.yticks(range(n), rsa_cnty, fontsize=8,)\n",
        "plt.title(\"Geographical distance\")\n",
        "# im1=ax1.imshow(rsm)"
      ],
      "metadata": {
        "colab": {
          "base_uri": "https://localhost:8080/",
          "height": 544
        },
        "id": "ubrRUN_3E1PO",
        "outputId": "c5245d0a-90ff-457d-86e3-20ccbb4d4fcd"
      },
      "execution_count": null,
      "outputs": [
        {
          "output_type": "execute_result",
          "data": {
            "text/plain": [
              "Text(0.5, 1.0, 'Geographical distance')"
            ]
          },
          "metadata": {},
          "execution_count": 73
        },
        {
          "output_type": "display_data",
          "data": {
            "text/plain": [
              "<Figure size 640x480 with 1 Axes>"
            ],
            "image/png": "[encoded data removed]"
          },
          "metadata": {}
        }
      ]
    },
    {
      "cell_type": "code",
      "source": [
        "# simgeo=rsmgeo\n",
        "# simgeo=np.exp(-np.power(rsmgeo,2)*5e-6)\n",
        "tau,p=np.zeros(n),np.zeros(n)\n",
        "for i in range(n):\n",
        "  res=scipy.stats.kendalltau(tmp[i], simgeo[i])\n",
        "  tau[i],p[i]=res.statistic, res.pvalue\n",
        "tau.mean(),p.mean()"
      ],
      "metadata": {
        "colab": {
          "base_uri": "https://localhost:8080/"
        },
        "id": "EWqDoJLpHWUj",
        "outputId": "4bc27039-e680-4312-83ec-a5391c9fc8b0"
      },
      "execution_count": 91,
      "outputs": [
        {
          "output_type": "execute_result",
          "data": {
            "text/plain": [
              "(0.2130139079874816, 0.2730630057905554)"
            ]
          },
          "metadata": {},
          "execution_count": 91
        }
      ]
    },
    {
      "cell_type": "markdown",
      "source": [],
      "metadata": {
        "id": "cua1Sz63Wywi"
      }
    },
    {
      "cell_type": "markdown",
      "source": [],
      "metadata": {
        "id": "LauJTCuVWyuN"
      }
    },
    {
      "cell_type": "markdown",
      "source": [],
      "metadata": {
        "id": "eu5tubt8WylH"
      }
    },
    {
      "cell_type": "markdown",
      "source": [
        "## Get Embeddings (Do not need to be run)"
      ],
      "metadata": {
        "id": "B0QHt-jcDDm_"
      }
    },
    {
      "cell_type": "code",
      "source": [
        "path = '/content/drive/MyDrive/Colab Notebooks/6.8610_proj'\n",
        "df = pd.read_csv(os.path.join(path, 'majorcities.csv'), index_col=0).dropna(subset='population')\n",
        "df = df[df.population > 60000]\n",
        "\n",
        "num_class = 100\n",
        "major_cnty = df.groupby('country_id').count().sort_values('city', ascending=False).index.values[:num_class]\n",
        "# np.argwhere(df.groupby('country_id').count().sort_values('city', ascending=False).city.values == 9)\n",
        "df_major = df[df.country_id.isin(list(major_cnty))].drop_duplicates(['city', 'admin_name'])\n",
        "df_major.admin_name = df_major.apply((lambda x: \", \".join([x.city, x.admin_name]) if type(x.admin_name)!=float else x.city), axis=1)\n",
        "df_major[df_major.city=='London']"
      ],
      "metadata": {
        "id": "HsijKxseDIbU"
      },
      "execution_count": null,
      "outputs": []
    },
    {
      "cell_type": "code",
      "source": [
        "# ls = [f\"The latitude and longitude of city {n} is\" for n in df_major.admin_name.values]\n",
        "# tk = tokenizer(ls, truncation=True, max_length=32, pad_to_max_length=True, return_tensors='pt')\n",
        "# torch.save(torch.tensor(df_major.index.values), '/content/drive/MyDrive/Colab Notebooks/6.8610_proj/cid.pt')\n",
        "ids, token, masks, hiddens = [],[],[],[]\n",
        "# # df_major = df_major.drop_duplicates(['city','admin_name'])\n",
        "with torch.no_grad():\n",
        "  for i in tqdm(range(0, len(df_major) , 64)):\n",
        "      end = min(len(df_major), i+64)\n",
        "\n",
        "      id = df_major.index.values[i:end]\n",
        "      n = [f\"The latitude and longitude of city {n} is\" for n in df_major.loc[id].admin_name.values]\n",
        "      # if type(adm) != float: n = ', '.join([n,adm])\n",
        "      inputs = tokenizer(n, truncation=True, max_length=28, pad_to_max_length=True, return_tensors='pt').to(device)\n",
        "      ids.append(id)\n",
        "      token.append(inputs.input_ids.cpu())\n",
        "      masks.append(inputs.attention_mask.cpu())\n",
        "      h=model(**inputs, output_hidden_states=True).hidden_states\n",
        "      hiddens.append((h[20].cpu(),h[24].cpu()))\n",
        "      # hiddens.append(h[0].cpu())\n",
        "      del inputs, h\n",
        "#     j+=1\n",
        "#     if j%1==0:print(j)\n",
        "#     if i > 5:break\n",
        "\n",
        "# embs, masks, tokens, ids\n",
        "# res=embs[0]\n",
        "# res.hidden_states[0]"
      ],
      "metadata": {
        "id": "of05Cm0CNYEC"
      },
      "execution_count": null,
      "outputs": []
    },
    {
      "cell_type": "code",
      "source": [
        "torch.save(torch.concat(ids,0), '/content/drive/MyDrive/Colab Notebooks/6.8610_proj/<filename>')\n",
        "torch.save(torch.concat(tokens, 0), '/content/drive/MyDrive/Colab Notebooks/6.8610_proj/<filename>')\n",
        "torch.save(torch.concat(masks, 0), '/content/drive/MyDrive/Colab Notebooks/6.8610_proj/<filename>')\n",
        "\n",
        "for i in range(len(hiddens[0])):\n",
        "  torch.save(torch.concat([x[i] for x in hiddens], 0), '/content/drive/MyDrive/Colab Notebooks/6.8610_proj/<filename>')\n",
        "\n"
      ],
      "metadata": {
        "id": "HSr7tz5EDkpS"
      },
      "execution_count": null,
      "outputs": []
    }
  ],
  "metadata": {
    "colab": {
      "provenance": [],
      "gpuType": "T4"
    },
    "kernelspec": {
      "display_name": "Python 3",
      "name": "python3"
    },
    "language_info": {
      "codemirror_mode": {
        "name": "ipython",
        "version": 3
      },
      "file_extension": ".py",
      "mimetype": "text/x-python",
      "name": "python",
      "nbconvert_exporter": "python",
      "pygments_lexer": "ipython3",
      "version": "3.10.13"
    },
    "orig_nbformat": 4,
    "accelerator": "GPU"
  },
  "nbformat": 4,
  "nbformat_minor": 0
}